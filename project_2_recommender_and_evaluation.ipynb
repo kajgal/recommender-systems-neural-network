{
 "cells": [
  {
   "cell_type": "code",
   "execution_count": 1,
   "id": "alike-morgan",
   "metadata": {},
   "outputs": [
    {
     "name": "stderr",
     "output_type": "stream",
     "text": [
      "d:\\Dev\\Anaconda\\envs\\rs_env\\lib\\site-packages\\tqdm\\auto.py:22: TqdmWarning: IProgress not found. Please update jupyter and ipywidgets. See https://ipywidgets.readthedocs.io/en/stable/user_install.html\n",
      "  from .autonotebook import tqdm as notebook_tqdm\n"
     ]
    }
   ],
   "source": [
    "%matplotlib inline\n",
    "%load_ext autoreload\n",
    "%autoreload 2\n",
    "\n",
    "import numpy as np\n",
    "import pandas as pd\n",
    "import matplotlib.pyplot as plt\n",
    "import seaborn as sns\n",
    "from IPython.display import Markdown, display, HTML\n",
    "from collections import defaultdict\n",
    "\n",
    "import torch\n",
    "import torch.nn as nn\n",
    "import torch.optim as optim\n",
    "from livelossplot import PlotLosses\n",
    "\n",
    "# recommenders\n",
    "from recommenders.recommender import Recommender\n",
    "from recommenders.amazon_recommender import AmazonRecommender\n",
    "from recommenders.netflix_recommender import NetflixRecommender\n",
    "\n",
    "# evaluation\n",
    "from evaluation_and_testing.testing import evaluate_train_test_split_implicit\n",
    "\n",
    "# tunning\n",
    "from hyperopt import hp, fmin, tpe, Trials\n",
    "import traceback\n",
    "\n",
    "from collections import defaultdict, deque\n",
    "\n",
    "# Fix the dying kernel problem (only a problem in some installations - you can remove it, if it works without it)\n",
    "import os\n",
    "os.environ['KMP_DUPLICATE_LIB_OK'] = 'True'"
   ]
  },
  {
   "cell_type": "markdown",
   "id": "blessed-knitting",
   "metadata": {},
   "source": [
    "# Load the dataset for recommenders"
   ]
  },
  {
   "cell_type": "code",
   "execution_count": 2,
   "id": "victorian-bottom",
   "metadata": {},
   "outputs": [
    {
     "data": {
      "text/html": [
       "<table border=\"1\" class=\"dataframe\">\n",
       "  <thead>\n",
       "    <tr style=\"text-align: right;\">\n",
       "      <th></th>\n",
       "      <th>user_id</th>\n",
       "      <th>item_id</th>\n",
       "      <th>term</th>\n",
       "      <th>length_of_stay_bucket</th>\n",
       "      <th>rate_plan</th>\n",
       "      <th>room_segment</th>\n",
       "      <th>n_people_bucket</th>\n",
       "      <th>weekend_stay</th>\n",
       "    </tr>\n",
       "  </thead>\n",
       "  <tbody>\n",
       "    <tr>\n",
       "      <th>0</th>\n",
       "      <td>1</td>\n",
       "      <td>0</td>\n",
       "      <td>WinterVacation</td>\n",
       "      <td>[2-3]</td>\n",
       "      <td>Standard</td>\n",
       "      <td>[260-360]</td>\n",
       "      <td>[5-inf]</td>\n",
       "      <td>True</td>\n",
       "    </tr>\n",
       "    <tr>\n",
       "      <th>1</th>\n",
       "      <td>2</td>\n",
       "      <td>1</td>\n",
       "      <td>WinterVacation</td>\n",
       "      <td>[2-3]</td>\n",
       "      <td>Standard</td>\n",
       "      <td>[160-260]</td>\n",
       "      <td>[3-4]</td>\n",
       "      <td>True</td>\n",
       "    </tr>\n",
       "    <tr>\n",
       "      <th>2</th>\n",
       "      <td>3</td>\n",
       "      <td>2</td>\n",
       "      <td>WinterVacation</td>\n",
       "      <td>[2-3]</td>\n",
       "      <td>Standard</td>\n",
       "      <td>[160-260]</td>\n",
       "      <td>[2-2]</td>\n",
       "      <td>False</td>\n",
       "    </tr>\n",
       "    <tr>\n",
       "      <th>3</th>\n",
       "      <td>4</td>\n",
       "      <td>3</td>\n",
       "      <td>WinterVacation</td>\n",
       "      <td>[4-7]</td>\n",
       "      <td>Standard</td>\n",
       "      <td>[160-260]</td>\n",
       "      <td>[3-4]</td>\n",
       "      <td>True</td>\n",
       "    </tr>\n",
       "    <tr>\n",
       "      <th>4</th>\n",
       "      <td>5</td>\n",
       "      <td>4</td>\n",
       "      <td>WinterVacation</td>\n",
       "      <td>[4-7]</td>\n",
       "      <td>Standard</td>\n",
       "      <td>[0-160]</td>\n",
       "      <td>[2-2]</td>\n",
       "      <td>True</td>\n",
       "    </tr>\n",
       "    <tr>\n",
       "      <th>5</th>\n",
       "      <td>6</td>\n",
       "      <td>5</td>\n",
       "      <td>Easter</td>\n",
       "      <td>[4-7]</td>\n",
       "      <td>Standard</td>\n",
       "      <td>[260-360]</td>\n",
       "      <td>[5-inf]</td>\n",
       "      <td>True</td>\n",
       "    </tr>\n",
       "    <tr>\n",
       "      <th>6</th>\n",
       "      <td>7</td>\n",
       "      <td>6</td>\n",
       "      <td>OffSeason</td>\n",
       "      <td>[2-3]</td>\n",
       "      <td>Standard</td>\n",
       "      <td>[260-360]</td>\n",
       "      <td>[5-inf]</td>\n",
       "      <td>True</td>\n",
       "    </tr>\n",
       "    <tr>\n",
       "      <th>7</th>\n",
       "      <td>8</td>\n",
       "      <td>7</td>\n",
       "      <td>HighSeason</td>\n",
       "      <td>[2-3]</td>\n",
       "      <td>Standard</td>\n",
       "      <td>[160-260]</td>\n",
       "      <td>[1-1]</td>\n",
       "      <td>True</td>\n",
       "    </tr>\n",
       "    <tr>\n",
       "      <th>8</th>\n",
       "      <td>9</td>\n",
       "      <td>8</td>\n",
       "      <td>HighSeason</td>\n",
       "      <td>[2-3]</td>\n",
       "      <td>Standard</td>\n",
       "      <td>[0-160]</td>\n",
       "      <td>[1-1]</td>\n",
       "      <td>True</td>\n",
       "    </tr>\n",
       "    <tr>\n",
       "      <th>9</th>\n",
       "      <td>8</td>\n",
       "      <td>7</td>\n",
       "      <td>HighSeason</td>\n",
       "      <td>[2-3]</td>\n",
       "      <td>Standard</td>\n",
       "      <td>[160-260]</td>\n",
       "      <td>[1-1]</td>\n",
       "      <td>True</td>\n",
       "    </tr>\n",
       "    <tr>\n",
       "      <th>10</th>\n",
       "      <td>8</td>\n",
       "      <td>7</td>\n",
       "      <td>HighSeason</td>\n",
       "      <td>[2-3]</td>\n",
       "      <td>Standard</td>\n",
       "      <td>[160-260]</td>\n",
       "      <td>[1-1]</td>\n",
       "      <td>True</td>\n",
       "    </tr>\n",
       "    <tr>\n",
       "      <th>11</th>\n",
       "      <td>10</td>\n",
       "      <td>9</td>\n",
       "      <td>HighSeason</td>\n",
       "      <td>[2-3]</td>\n",
       "      <td>Standard</td>\n",
       "      <td>[160-260]</td>\n",
       "      <td>[3-4]</td>\n",
       "      <td>True</td>\n",
       "    </tr>\n",
       "    <tr>\n",
       "      <th>12</th>\n",
       "      <td>11</td>\n",
       "      <td>9</td>\n",
       "      <td>HighSeason</td>\n",
       "      <td>[2-3]</td>\n",
       "      <td>Standard</td>\n",
       "      <td>[160-260]</td>\n",
       "      <td>[3-4]</td>\n",
       "      <td>True</td>\n",
       "    </tr>\n",
       "    <tr>\n",
       "      <th>13</th>\n",
       "      <td>12</td>\n",
       "      <td>10</td>\n",
       "      <td>HighSeason</td>\n",
       "      <td>[8-inf]</td>\n",
       "      <td>Standard</td>\n",
       "      <td>[160-260]</td>\n",
       "      <td>[3-4]</td>\n",
       "      <td>True</td>\n",
       "    </tr>\n",
       "    <tr>\n",
       "      <th>14</th>\n",
       "      <td>15</td>\n",
       "      <td>11</td>\n",
       "      <td>LowSeason</td>\n",
       "      <td>[2-3]</td>\n",
       "      <td>Standard</td>\n",
       "      <td>[160-260]</td>\n",
       "      <td>[5-inf]</td>\n",
       "      <td>True</td>\n",
       "    </tr>\n",
       "  </tbody>\n",
       "</table>"
      ],
      "text/plain": [
       "<IPython.core.display.HTML object>"
      ]
     },
     "metadata": {},
     "output_type": "display_data"
    }
   ],
   "source": [
    "data_path = os.path.join(\"data\", \"hotel_data\")\n",
    "\n",
    "interactions_df = pd.read_csv(os.path.join(data_path, \"hotel_data_interactions_df.csv\"), index_col=0)\n",
    "\n",
    "base_item_features = ['term', 'length_of_stay_bucket', 'rate_plan', 'room_segment', 'n_people_bucket', 'weekend_stay']\n",
    "\n",
    "column_values_dict = {\n",
    "    'term': ['WinterVacation', 'Easter', 'OffSeason', 'HighSeason', 'LowSeason', 'MayLongWeekend', 'NewYear', 'Christmas'],\n",
    "    'length_of_stay_bucket': ['[0-1]', '[2-3]', '[4-7]', '[8-inf]'],\n",
    "    'rate_plan': ['Standard', 'Nonref'],\n",
    "    'room_segment': ['[0-160]', '[160-260]', '[260-360]', '[360-500]', '[500-900]'],\n",
    "    'n_people_bucket': ['[1-1]', '[2-2]', '[3-4]', '[5-inf]'],\n",
    "    'weekend_stay': ['True', 'False']\n",
    "}\n",
    "\n",
    "interactions_df.loc[:, 'term'] = pd.Categorical(\n",
    "    interactions_df['term'], categories=column_values_dict['term'])\n",
    "interactions_df.loc[:, 'length_of_stay_bucket'] = pd.Categorical(\n",
    "    interactions_df['length_of_stay_bucket'], categories=column_values_dict['length_of_stay_bucket'])\n",
    "interactions_df.loc[:, 'rate_plan'] = pd.Categorical(\n",
    "    interactions_df['rate_plan'], categories=column_values_dict['rate_plan'])\n",
    "interactions_df.loc[:, 'room_segment'] = pd.Categorical(\n",
    "    interactions_df['room_segment'], categories=column_values_dict['room_segment'])\n",
    "interactions_df.loc[:, 'n_people_bucket'] = pd.Categorical(\n",
    "    interactions_df['n_people_bucket'], categories=column_values_dict['n_people_bucket'])\n",
    "interactions_df.loc[:, 'weekend_stay'] = interactions_df['weekend_stay'].astype('str')\n",
    "interactions_df.loc[:, 'weekend_stay'] = pd.Categorical(\n",
    "    interactions_df['weekend_stay'], categories=column_values_dict['weekend_stay'])\n",
    "\n",
    "display(HTML(interactions_df.head(15).to_html()))"
   ]
  },
  {
   "cell_type": "markdown",
   "id": "4a8ad9bd",
   "metadata": {},
   "source": [
    "## Numerical item and user features"
   ]
  },
  {
   "cell_type": "markdown",
   "id": "f09db86a",
   "metadata": {},
   "source": [
    "I removed optional parts with extracting numerical item and user features as I didn't use them anywhere in project. I spent some time on research about hybrid recommenders because I wanted to learn something about it but finally I decided to focus only on neural network models and optimizers because the size of project is already large and the tuning of so many combinations also required a lot of time."
   ]
  },
  {
   "cell_type": "markdown",
   "id": "figured-imaging",
   "metadata": {},
   "source": [
    "# Neural network recommender\n",
    "\n",
    "<span style=\"color:red\"><font size=\"4\">**Task:**</font></span><br> \n",
    "Code a recommender based on a neural network model. You are free to choose any network architecture you find appropriate. The network can use the interaction vectors for users and items, embeddings of users and items, as well as user and item features (you can use the features you developed in the first project).\n",
    "\n",
    "Remember to keep control over randomness - in the init method add the seed as a parameter and initialize the random seed generator with that seed (both for numpy and pytorch):\n",
    "\n",
    "```python\n",
    "self.seed = seed\n",
    "self.rng = np.random.RandomState(seed=seed)\n",
    "```\n",
    "in the network model:\n",
    "```python\n",
    "self.seed = torch.manual_seed(seed)\n",
    "```\n",
    "\n",
    "You are encouraged to experiment with:\n",
    "  - the number of layers in the network, the number of neurons and different activation functions,\n",
    "  - different optimizers and their parameters,\n",
    "  - batch size and the number of epochs,\n",
    "  - embedding layers,\n",
    "  - content-based features of both users and items."
   ]
  },
  {
   "cell_type": "markdown",
   "id": "1e48407e",
   "metadata": {},
   "source": [
    "## MLP Model"
   ]
  },
  {
   "cell_type": "code",
   "execution_count": 3,
   "id": "0be651a8",
   "metadata": {},
   "outputs": [],
   "source": [
    "class MLPModel(nn.Module):\n",
    "    def __init__(self, n_items, n_users, embedding_dim, hidden_dim, seed):\n",
    "        \"\"\"\n",
    "        :param int n_items: Number of items.\n",
    "        :param int n_users: Number of users.\n",
    "        :param int embedding_dim: Dimension of the user and item embeddings.\n",
    "        :param int hidden_dim: Dimension of the first hidden layer.\n",
    "        :param int seed: Seed for the random number generator.\n",
    "        \"\"\"\n",
    "        super().__init__()\n",
    "\n",
    "        self.seed = torch.manual_seed(seed)\n",
    "        self.item_embedding = nn.Embedding(n_items, embedding_dim)\n",
    "        self.user_embedding = nn.Embedding(n_users, embedding_dim)\n",
    "        self.nn1 = nn.Linear(2 * embedding_dim, hidden_dim, bias=True)\n",
    "        self.nn2 = nn.Linear(hidden_dim, int(hidden_dim / 2), bias=True)\n",
    "        self.nn3 = nn.Linear(int(hidden_dim / 2), 1, bias=False)\n",
    "\n",
    "    def forward(self, x):\n",
    "        user = x[:, 0]\n",
    "        item = x[:, 1]\n",
    "        user_embedding = self.user_embedding(user)\n",
    "        item_embedding = self.item_embedding(item)\n",
    "        x = torch.cat([user_embedding, item_embedding], dim=1)\n",
    "        x = torch.relu(self.nn1(x))\n",
    "        x = torch.relu(self.nn2(x))\n",
    "        x = torch.sigmoid(self.nn3(x))\n",
    "\n",
    "\n",
    "        return x"
   ]
  },
  {
   "cell_type": "markdown",
   "id": "752c9641",
   "metadata": {},
   "source": [
    "## NeuMF Model"
   ]
  },
  {
   "cell_type": "code",
   "execution_count": 4,
   "id": "cd89921f",
   "metadata": {},
   "outputs": [],
   "source": [
    "class NeuMFModel(nn.Module):\n",
    "    def __init__(self, n_items, n_users, gmf_embedding_dim, mlp_embedding_dim, hidden_dim, seed):\n",
    "        \"\"\"\n",
    "        :param int n_items: Number of items.\n",
    "        :param int n_users: Number of users.\n",
    "        :param int embedding_dim: Dimension of the user and item embeddings.\n",
    "        :param int hidden_dim: Dimension of the first hidden layer of the MLP part of the network.\n",
    "        :param int seed: Seed for the random number generator.\n",
    "        \"\"\"\n",
    "        super().__init__()\n",
    "\n",
    "        self.seed = torch.manual_seed(seed)\n",
    "        \n",
    "        self.gmf_user_embedding = nn.Embedding(n_users, gmf_embedding_dim)\n",
    "        self.gmf_item_embedding = nn.Embedding(n_items, gmf_embedding_dim)\n",
    "\n",
    "        self.mlp_user_embedding = nn.Embedding(n_users, mlp_embedding_dim)\n",
    "        self.mlp_item_embedding = nn.Embedding(n_items, mlp_embedding_dim)\n",
    "        self.mlp_nn1 = nn.Linear(2 * mlp_embedding_dim, hidden_dim, bias=True)\n",
    "        self.mlp_nn2 = nn.Linear(hidden_dim, int(hidden_dim / 2), bias=True)\n",
    "        \n",
    "        self.nn = nn.Linear(gmf_embedding_dim + int(hidden_dim / 2), 1, bias=False)\n",
    "\n",
    "    def forward(self, x):\n",
    "        \"\"\"\n",
    "        :param torch.Tensor x: Tensor of size batch_size x 2. Every row contains two values - user id in the first column \n",
    "            and item id in the second column.\n",
    "        \"\"\"\n",
    "        \n",
    "        user = x[:, 0]\n",
    "        item = x[:, 1]\n",
    "        \n",
    "        gmf_user_embedding = self.gmf_user_embedding(user)\n",
    "        gmf_item_embedding = self.gmf_item_embedding(item)\n",
    "        gmf_x = gmf_user_embedding * gmf_item_embedding\n",
    "        \n",
    "        mlp_user_embedding = self.mlp_user_embedding(user)\n",
    "        mlp_item_embedding = self.mlp_item_embedding(item)\n",
    "        mlp_x = torch.cat([mlp_user_embedding, mlp_item_embedding], dim=1)\n",
    "        mlp_x = torch.relu(self.mlp_nn1(mlp_x))\n",
    "        mlp_x = torch.relu(self.mlp_nn2(mlp_x))\n",
    "\n",
    "        x = torch.cat([gmf_x, mlp_x], dim=1)\n",
    "        x = torch.sigmoid(self.nn(x))\n",
    "\n",
    "        return x"
   ]
  },
  {
   "cell_type": "markdown",
   "id": "46f7bb9b",
   "metadata": {},
   "source": [
    "## GMF Model"
   ]
  },
  {
   "cell_type": "code",
   "execution_count": 5,
   "id": "5e89c319",
   "metadata": {},
   "outputs": [],
   "source": [
    "class GMFModel(nn.Module):\n",
    "    def __init__(self, n_items, n_users, embedding_dim, seed):\n",
    "        \"\"\"\n",
    "        :param int n_items: Number of items.\n",
    "        :param int n_users: Number of users.\n",
    "        :param int embedding_dim: Dimension of the user and item embeddings.\n",
    "        :param int seed: Seed for the random number generator.\n",
    "        \"\"\"\n",
    "        super().__init__()\n",
    "\n",
    "        self.seed = torch.manual_seed(seed)\n",
    "        self.item_embedding = nn.Embedding(n_items, embedding_dim)\n",
    "        self.user_embedding = nn.Embedding(n_users, embedding_dim)\n",
    "        self.nn = nn.Linear(embedding_dim, 1, bias = False)\n",
    "\n",
    "\n",
    "    def forward(self, x):\n",
    "        \"\"\"\n",
    "        :param torch.Tensor x: Tensor of size batch_size x 2. Every row contains two values - user id in the first column \n",
    "            and item id in the second column.\n",
    "        \"\"\"\n",
    "        user_ids = x[:, 0]\n",
    "        item_ids = x[:, 1]\n",
    "        x = self.nn(self.user_embedding(user_ids) * self.item_embedding(item_ids))\n",
    "        x = torch.sigmoid(x)\n",
    "\n",
    "        return x"
   ]
  },
  {
   "cell_type": "markdown",
   "id": "91586ae1",
   "metadata": {},
   "source": [
    "## Base Neural Network Recommender"
   ]
  },
  {
   "cell_type": "code",
   "execution_count": 6,
   "id": "unlike-recipient",
   "metadata": {},
   "outputs": [],
   "source": [
    "class NNRecommender(Recommender):\n",
    "    \"\"\"\n",
    "    Neural network recommender with usage of different models (MLP, GMF, NeuMF) and different optimizers (SGD, ASGD, Adam)\n",
    "    \"\"\"\n",
    "    \n",
    "    def __init__(self, seed=6789, n_neg_per_pos=5, **params):\n",
    "        \"\"\"\n",
    "        Initialize recommender params and variables.\n",
    "        \"\"\"\n",
    "        \n",
    "        self.recommender_df = pd.DataFrame(columns=['user_id', 'item_id', 'score'])\n",
    "        self.validation_set_size = 0.2\n",
    "        self.seed = seed\n",
    "        self.rng = np.random.RandomState(seed=seed)\n",
    "        torch.manual_seed(seed)\n",
    "\n",
    "        # Operate in different mode based on passed parameter\n",
    "        if 'train' in params:\n",
    "            self.train = params['train']\n",
    "        else:\n",
    "            self.train = False\n",
    "\n",
    "        # Use different model based on name passed as parameter\n",
    "        if 'model_name' in params:\n",
    "            self.model_name = params['model_name']\n",
    "        else:\n",
    "            self.model_name = 'GMF'\n",
    "\n",
    "        # Use different optimizer based on name passed as parameter\n",
    "        if 'optimizer_name' in params:\n",
    "            self.optimizer_name = params['optimizer_name']\n",
    "        else:\n",
    "            self.optimizer_name = 'Adam'\n",
    "\n",
    "        # Make the most important parameters of recommender configurable in order to test results with different values\n",
    "\n",
    "        self.n_neg_per_pos = n_neg_per_pos\n",
    "\n",
    "        if 'n_epochs' in params:\n",
    "            self.n_epochs = params['n_epochs']\n",
    "        else:\n",
    "            self.n_epochs = 10\n",
    "\n",
    "        if 'embedding_dim' in params:\n",
    "            self.embedding_dim = params['embedding_dim']\n",
    "        else:\n",
    "            self.embedding_dim = 8\n",
    "\n",
    "        if 'hidden_dim' in params:\n",
    "            self.hidden_dim = params['hidden_dim']\n",
    "        else:\n",
    "            self.hidden_dim = 16\n",
    "\n",
    "        if 'batch_size' in params:\n",
    "            self.batch_size = params['batch_size']\n",
    "        else:\n",
    "            self.batch_size = 64\n",
    "\n",
    "        if 'device' in params:\n",
    "            self.device = params['device']\n",
    "        else:\n",
    "            self.device = torch.device(\"cuda:0\" if torch.cuda.is_available() else \"cpu\")\n",
    "\n",
    "        # Load passed parameters of optimizers in dedicated functions in order to increase readability of init function\n",
    "        if self.optimizer_name == 'SGD':\n",
    "            self.load_SGD_optimizer_params()\n",
    "        elif self.optimizer_name == 'ASGD':\n",
    "            self.load_ASGD_optimizer_params()\n",
    "        else:\n",
    "            self.load_Adam_optimizer_params()\n",
    "\n",
    "    def fit(self, interactions_df, users_df, items_df):\n",
    "        \"\"\"\n",
    "        Training of the recommender.\n",
    "        \n",
    "        :param pd.DataFrame interactions_df: DataFrame with recorded interactions between users and items \n",
    "            defined by user_id, item_id and features of the interaction.\n",
    "        :param pd.DataFrame users_df: DataFrame with users and their features defined by user_id and the user feature columns.\n",
    "        :param pd.DataFrame items_df: DataFrame with items and their features defined by item_id and the item feature columns.\n",
    "        \"\"\"\n",
    "\n",
    "        # Prepare mappings\n",
    "        unique_item_ids = interactions_df['item_id'].unique()\n",
    "        self.item_id_mapping = dict(zip(unique_item_ids, list(range(len(unique_item_ids)))))\n",
    "        self.item_id_reverse_mapping = dict(zip(list(range(len(unique_item_ids))), unique_item_ids))\n",
    "        unique_user_ids = interactions_df['user_id'].unique()\n",
    "        self.user_id_mapping = dict(zip(unique_user_ids, list(range(len(unique_user_ids)))))\n",
    "        self.user_id_reverse_mapping = dict(zip(list(range(len(unique_user_ids))), unique_user_ids))\n",
    "        \n",
    "        interactions_df = interactions_df.copy()\n",
    "        interactions_df['item_id'] = interactions_df['item_id'].map(self.item_id_mapping)\n",
    "        interactions_df['user_id'] = interactions_df['user_id'].map(self.user_id_mapping)\n",
    "\n",
    "        # Get the number of items and users\n",
    "        self.interactions_df = interactions_df.copy()\n",
    "        n_users = np.max(interactions_df['user_id']) + 1\n",
    "        n_items = np.max(interactions_df['item_id']) + 1\n",
    "\n",
    "        # Indicate positive interactions\n",
    "        interactions_df.loc[:, 'interacted'] = 1\n",
    "        \n",
    "        # Generate negative interactions\n",
    "        positive_interactions_dict = {key: 1 for key in zip(interactions_df['user_id'], interactions_df['item_id'])}\n",
    "\n",
    "        negative_interactions = []\n",
    "        negative_interactions_size = 0\n",
    "        negative_interactions_goal = self.n_neg_per_pos * len(interactions_df)\n",
    "\n",
    "        user_ids = np.arange(n_users)\n",
    "        item_ids = np.arange(n_items)\n",
    "        \n",
    "        while negative_interactions_size < negative_interactions_goal:\n",
    "\n",
    "            random_user_id = np.random.choice(user_ids)\n",
    "            random_item_id = np.random.choice(item_ids)\n",
    "            candidate_tuple = (random_user_id, random_item_id)\n",
    "\n",
    "            if candidate_tuple not in positive_interactions_dict:\n",
    "\n",
    "                negative_tuple = (random_user_id, random_item_id, 0)\n",
    "                negative_interactions.append(negative_tuple)\n",
    "                negative_interactions_size += 1\n",
    "        \n",
    "        interactions_df = pd.concat([interactions_df, pd.DataFrame(negative_interactions, columns=['user_id', 'item_id', 'interacted'])])\n",
    "        interactions_df = interactions_df.reset_index(drop=True)\n",
    "        \n",
    "        # Initialize the neural network model\n",
    "\n",
    "        # Setup the model\n",
    "        if self.model_name == 'MLP':\n",
    "            self.model = MLPModel(n_items, n_users, self.embedding_dim, self.hidden_dim, self.seed)\n",
    "            self.__class__.__name__ = 'MLPRecommender'\n",
    "        elif self.model_name == 'NeuMF':\n",
    "            self.model = NeuMFModel(n_items, n_users, self.embedding_dim, self.embedding_dim, self.hidden_dim, self.seed)\n",
    "            self.__class__.__name__ = 'NeuMFRecommender'\n",
    "        else:\n",
    "            self.model = GMFModel(n_items, n_users, self.embedding_dim, self.seed)\n",
    "            self.__class__.__name__ = 'GMFRecommender'\n",
    "\n",
    "        self.model.train()\n",
    "        self.model.to(self.device)\n",
    "        \n",
    "        # Setup the optimizer\n",
    "        if self.optimizer_name == 'SGD':\n",
    "            self.optimizer = optim.SGD(self.model.parameters(), lr=self.lr, momentum=self.momentum, weight_decay=self.weight_decay, \n",
    "                dampening=self.dampening, nesterov=self.nesterov, maximize=self.maximize)\n",
    "        elif self.optimizer_name == 'ASGD':\n",
    "            self.optimizer = optim.ASGD(self.model.parameters(), lr=self.lr, lambd=self.lambd, alpha=self.alpha, t0=self.t0, weight_decay=self.weight_decay)\n",
    "        else:\n",
    "            self.optimizer = optim.Adam(self.model.parameters(), lr = self.lr, betas=self.betas, eps=self.eps, weight_decay=self.weight_decay,\n",
    "                amsgrad=self.amsgrad, maximize=self.maximize)\n",
    "\n",
    "        # Train the model using an optimizer\n",
    "        \n",
    "        # Split the data\n",
    "        if self.train:\n",
    "            interaction_ids = self.rng.permutation(len(interactions_df))\n",
    "            train_validation_slice_idx = int(len(interactions_df) * (1 - self.validation_set_size))\n",
    "            training_ids = interaction_ids[:train_validation_slice_idx]\n",
    "            validation_ids = interaction_ids[train_validation_slice_idx:]\n",
    "        else:\n",
    "            interaction_ids = self.rng.permutation(len(interactions_df))\n",
    "            training_ids = interaction_ids\n",
    "            validation_ids = []\n",
    "\n",
    "        training_losses = deque(maxlen=50)\n",
    "        training_avg_losses = []\n",
    "        \n",
    "        # Train the model\n",
    "        liveloss = PlotLosses()\n",
    "\n",
    "        for _ in range(self.n_epochs):\n",
    "            logs = {}\n",
    "                \n",
    "            # Train\n",
    "            training_losses.clear()\n",
    "            training_total_loss = 0.0\n",
    "            \n",
    "            self.rng.shuffle(training_ids)\n",
    "            \n",
    "            batch_idx = 0\n",
    "            n_batches = int(np.ceil(len(training_ids) / self.batch_size))\n",
    "            \n",
    "            for batch_idx in range(n_batches):\n",
    "                \n",
    "                batch_ids = training_ids[(batch_idx * self.batch_size):((batch_idx + 1) * self.batch_size)]\n",
    "                \n",
    "                batch = interactions_df.loc[batch_ids]\n",
    "                batch_input = torch.from_numpy(batch.loc[:, ['user_id', 'item_id']].values).long().to(self.device)\n",
    "                y_target = torch.from_numpy(batch.loc[:, ['interacted']].values).float().to(self.device)\n",
    "                \n",
    "                # Create responses\n",
    "                y = self.model(batch_input).clip(0.000001, 0.999999)\n",
    "\n",
    "                # Define loss and backpropagate\n",
    "                self.optimizer.zero_grad()\n",
    "                loss = -(y_target * y.log() + (1 - y_target) * (1 - y).log()).sum()\n",
    "                loss.backward()\n",
    "                self.optimizer.step()\n",
    "                \n",
    "                training_total_loss += loss.item()\n",
    "                training_losses.append(loss.item())\n",
    "                training_avg_losses.append(np.mean(training_losses))\n",
    "                \n",
    "            # Validate\n",
    "            if self.train:\n",
    "\n",
    "                validation_total_loss = 0.0\n",
    "\n",
    "                batch = interactions_df.loc[validation_ids]\n",
    "                batch_input = torch.from_numpy(batch.loc[:, ['user_id', 'item_id']].values).long().to(self.device)\n",
    "                y_target = torch.from_numpy(batch.loc[:, ['interacted']].values).float().to(self.device)\n",
    "\n",
    "                # Create responses\n",
    "                y = self.model(batch_input).clip(0.000001, 0.999999)\n",
    "\n",
    "                # Calculate validation loss\n",
    "                loss = -(y_target * y.log() + (1 - y_target) * (1 - y).log()).sum()\n",
    "                validation_total_loss += loss.item()\n",
    "                \n",
    "            # Save and print epoch losses\n",
    "            \n",
    "            training_last_avg_loss = training_total_loss / len(training_ids)\n",
    "            \n",
    "            if self.train:\n",
    "                validation_last_avg_loss = validation_total_loss / len(validation_ids)\n",
    "\n",
    "            # A bound on epoch prevents showing extremely high losses in the first epochs\n",
    "            logs['loss'] = training_last_avg_loss\n",
    "\n",
    "            if self.train:\n",
    "                logs['val_loss'] = validation_last_avg_loss\n",
    "                \n",
    "            liveloss.update(logs)\n",
    "            liveloss.send()\n",
    "\n",
    "        # Find the most popular items for the cold start problem\n",
    "        offers_count = interactions_df.loc[:, ['item_id', 'user_id']].groupby(by='item_id').count()\n",
    "        offers_count = offers_count.sort_values('user_id', ascending=False)\n",
    "        self.most_popular_items = offers_count.index\n",
    "    \n",
    "    def recommend(self, users_df, items_df, n_recommendations=1):\n",
    "        \"\"\"\n",
    "        Serving of recommendations. Scores items in items_df for each user in users_df and returns \n",
    "        top n_recommendations for each user.\n",
    "        \n",
    "        :param pd.DataFrame users_df: DataFrame with users and their features for which recommendations should be generated.\n",
    "        :param pd.DataFrame items_df: DataFrame with items and their features which should be scored.\n",
    "        :param int n_recommendations: Number of recommendations to be returned for each user.\n",
    "        :return: DataFrame with user_id, item_id and score as columns returning n_recommendations top recommendations \n",
    "            for each user.\n",
    "        :rtype: pd.DataFrame\n",
    "        \"\"\"\n",
    "        \n",
    "        # Clean previous recommendations (iloc could be used alternatively)\n",
    "        self.recommender_df = self.recommender_df[:0]\n",
    "        \n",
    "        # Map item ids\n",
    "        items_df = items_df.copy()\n",
    "        items_df = items_df.loc[items_df['item_id'].isin(self.item_id_mapping)]\n",
    "        items_df['item_id'] = items_df['item_id'].map(self.item_id_mapping)\n",
    "\n",
    "        # Score the items\n",
    "        for idx, user in users_df.iterrows():\n",
    "            \n",
    "            # Calculate the score for the user and every item in items_df\n",
    "            user_id = user['user_id']\n",
    "            recommendations = []\n",
    "            \n",
    "            if user_id in self.user_id_mapping:\n",
    "\n",
    "                mapped_user_id = self.user_id_mapping[user_id]\n",
    "\n",
    "                ids_list = items_df['item_id'].tolist()\n",
    "                id_to_pos = np.array([0] * len(ids_list))\n",
    "\n",
    "                for i in range(len(ids_list)):\n",
    "                    id_to_pos[ids_list[i]] = i\n",
    "                \n",
    "                nn_input = torch.tensor(list(zip([mapped_user_id]*len(ids_list), ids_list))).to(self.device)\n",
    "\n",
    "                scores = self.model(nn_input).flatten().detach().cpu().numpy()\n",
    "\n",
    "                chosen_pos = np.argsort(-scores)[:n_recommendations]\n",
    "                \n",
    "                for item_pos in chosen_pos:\n",
    "                    recommendations.append(\n",
    "                        {\n",
    "                            'user_id': self.user_id_reverse_mapping[mapped_user_id],\n",
    "                            'item_id': self.item_id_reverse_mapping[ids_list[item_pos]],\n",
    "                            'score': scores[item_pos]\n",
    "                        }\n",
    "                    )\n",
    "            # For new users recommend most popular items\n",
    "            else:\n",
    "                for i in range(n_recommendations):\n",
    "                    recommendations.append(\n",
    "                        {\n",
    "                            'user_id': user['user_id'],\n",
    "                            'item_id': self.item_id_reverse_mapping[self.most_popular_items[i]],\n",
    "                            'score': 1.0\n",
    "                        }\n",
    "                    )\n",
    "\n",
    "            user_recommendations = pd.DataFrame(recommendations)\n",
    "\n",
    "            self.recommender_df = pd.concat([self.recommender_df, user_recommendations])\n",
    "\n",
    "        return self.recommender_df\n",
    "\n",
    "    def load_SGD_optimizer_params(self, **params):\n",
    "        \"\"\"\n",
    "        Initialize parameters of SGD optimizer\n",
    "        \"\"\"\n",
    "\n",
    "        if 'lr' in params:\n",
    "            self.lr = params['lr']\n",
    "        else:\n",
    "            self.lr = 0.01\n",
    "\n",
    "        if 'momentum' in params:\n",
    "            self.momentum = params['momentum']\n",
    "        else:\n",
    "            self.momentum = 0.0\n",
    "        \n",
    "        if 'weight_decay' in params:\n",
    "            self.weight_decay = params['weight_decay']\n",
    "        else:\n",
    "            self.weight_decay = 0\n",
    "\n",
    "        if 'dampening' in params:\n",
    "            self.dampening = params['dampening']\n",
    "        else:\n",
    "            self.dampening = 0\n",
    "\n",
    "        if 'nesterov' in params:\n",
    "            self.nesterov = params['nesterov']\n",
    "        else:\n",
    "            self.nesterov = False\n",
    "\n",
    "        if 'maximize' in params:\n",
    "            self.maximize = params['maximize']\n",
    "        else:\n",
    "            self.maximize = False\n",
    "        \n",
    "    def load_Adam_optimizer_params(self, **params):\n",
    "        \"\"\"\n",
    "        Initialize parameters of Adam optimizer\n",
    "        \"\"\"\n",
    "\n",
    "        if 'lr' in params:\n",
    "            self.lr = params['lr']\n",
    "        else:\n",
    "            self.lr = 0.01\n",
    "\n",
    "        if 'betas' in params:\n",
    "            self.betas = params['betas']\n",
    "        else:\n",
    "            self.betas = (0.9, 0.999)\n",
    "\n",
    "        if 'eps' in params:\n",
    "            self.eps = params['eps']\n",
    "        else:\n",
    "            self.eps = 0.00000001\n",
    "\n",
    "        if 'weight_decay' in params:\n",
    "            self.weight_decay = params['weight_decay']\n",
    "        else:\n",
    "            self.weight_decay = 0\n",
    "\n",
    "        if 'amsgrad' in params:\n",
    "            self.amsgrad = params['amsgrad']\n",
    "        else:\n",
    "            self.amsgrad = False\n",
    "\n",
    "        if 'maximize' in params:\n",
    "            self.maximize = params['maximize']\n",
    "        else:\n",
    "            self.maximize = False\n",
    "\n",
    "    def load_ASGD_optimizer_params(self, **params):\n",
    "        \"\"\"\n",
    "        Initialize parameters of ASGD optimizer\n",
    "        \"\"\"\n",
    "\n",
    "        if 'lr' in params:\n",
    "            self.lr = params['lr']\n",
    "        else:\n",
    "            self.lr = 0.01\n",
    "\n",
    "        if 'lambd' in params:\n",
    "            self.lambd = params['lambd']\n",
    "        else:\n",
    "            self.lambd = 0.0001\n",
    "\n",
    "        if 'alpha' in params:\n",
    "            self.alpha = params['alpha']\n",
    "        else:\n",
    "            self.alpha = 0.75\n",
    "\n",
    "        if 't0' in params:\n",
    "            self.t0 = params['t0']\n",
    "        else:\n",
    "            self.t0 = 1000000.0\n",
    "\n",
    "        if 'weight_decay' in params:\n",
    "            self.weight_decay = params['weight_decay']\n",
    "        else:\n",
    "            self.weight_decay = 0"
   ]
  },
  {
   "cell_type": "markdown",
   "id": "copyrighted-relative",
   "metadata": {},
   "source": [
    "# Quick test of the recommender"
   ]
  },
  {
   "cell_type": "code",
   "execution_count": 7,
   "id": "greatest-canon",
   "metadata": {},
   "outputs": [],
   "source": [
    "items_df = interactions_df.loc[:, ['item_id'] + base_item_features].drop_duplicates()"
   ]
  },
  {
   "cell_type": "code",
   "execution_count": 8,
   "id": "initial-capital",
   "metadata": {},
   "outputs": [
    {
     "data": {
      "image/png": "[encoded data removed]",
      "text/plain": [
       "<Figure size 864x576 with 2 Axes>"
      ]
     },
     "metadata": {
      "needs_background": "light"
     },
     "output_type": "display_data"
    },
    {
     "name": "stdout",
     "output_type": "stream",
     "text": [
      "Loss\n",
      "\tloss             \t (min:    0.015, max:    0.695, cur:    0.015)\n"
     ]
    }
   ],
   "source": [
    "# Usage of NNRecommender without additional parameters will run GMF model with Adam optimizer and its default parameters\n",
    "nn_recommender = NNRecommender()\n",
    "nn_recommender.fit(interactions_df, None, None)"
   ]
  },
  {
   "cell_type": "code",
   "execution_count": 9,
   "id": "digital-consolidation",
   "metadata": {
    "scrolled": false
   },
   "outputs": [
    {
     "data": {
      "text/html": [
       "<table border=\"1\" class=\"dataframe\">\n",
       "  <thead>\n",
       "    <tr style=\"text-align: right;\">\n",
       "      <th></th>\n",
       "      <th>user_id</th>\n",
       "      <th>item_id</th>\n",
       "      <th>score</th>\n",
       "      <th>term</th>\n",
       "      <th>length_of_stay_bucket</th>\n",
       "      <th>rate_plan</th>\n",
       "      <th>room_segment</th>\n",
       "      <th>n_people_bucket</th>\n",
       "      <th>weekend_stay</th>\n",
       "    </tr>\n",
       "  </thead>\n",
       "  <tbody>\n",
       "    <tr>\n",
       "      <th>0</th>\n",
       "      <td>1</td>\n",
       "      <td>68</td>\n",
       "      <td>1.0</td>\n",
       "      <td>WinterVacation</td>\n",
       "      <td>[4-7]</td>\n",
       "      <td>Standard</td>\n",
       "      <td>[160-260]</td>\n",
       "      <td>[2-2]</td>\n",
       "      <td>True</td>\n",
       "    </tr>\n",
       "    <tr>\n",
       "      <th>1</th>\n",
       "      <td>1</td>\n",
       "      <td>140</td>\n",
       "      <td>1.0</td>\n",
       "      <td>HighSeason</td>\n",
       "      <td>[4-7]</td>\n",
       "      <td>Standard</td>\n",
       "      <td>[260-360]</td>\n",
       "      <td>[3-4]</td>\n",
       "      <td>True</td>\n",
       "    </tr>\n",
       "    <tr>\n",
       "      <th>2</th>\n",
       "      <td>1</td>\n",
       "      <td>61</td>\n",
       "      <td>1.0</td>\n",
       "      <td>OffSeason</td>\n",
       "      <td>[4-7]</td>\n",
       "      <td>Nonref</td>\n",
       "      <td>[160-260]</td>\n",
       "      <td>[2-2]</td>\n",
       "      <td>True</td>\n",
       "    </tr>\n",
       "    <tr>\n",
       "      <th>3</th>\n",
       "      <td>1</td>\n",
       "      <td>544</td>\n",
       "      <td>1.0</td>\n",
       "      <td>WinterVacation</td>\n",
       "      <td>[4-7]</td>\n",
       "      <td>Nonref</td>\n",
       "      <td>[160-260]</td>\n",
       "      <td>[1-1]</td>\n",
       "      <td>True</td>\n",
       "    </tr>\n",
       "    <tr>\n",
       "      <th>4</th>\n",
       "      <td>1</td>\n",
       "      <td>131</td>\n",
       "      <td>1.0</td>\n",
       "      <td>Easter</td>\n",
       "      <td>[4-7]</td>\n",
       "      <td>Standard</td>\n",
       "      <td>[160-260]</td>\n",
       "      <td>[1-1]</td>\n",
       "      <td>True</td>\n",
       "    </tr>\n",
       "    <tr>\n",
       "      <th>5</th>\n",
       "      <td>1</td>\n",
       "      <td>54</td>\n",
       "      <td>1.0</td>\n",
       "      <td>OffSeason</td>\n",
       "      <td>[0-1]</td>\n",
       "      <td>Standard</td>\n",
       "      <td>[160-260]</td>\n",
       "      <td>[2-2]</td>\n",
       "      <td>True</td>\n",
       "    </tr>\n",
       "    <tr>\n",
       "      <th>6</th>\n",
       "      <td>1</td>\n",
       "      <td>676</td>\n",
       "      <td>1.0</td>\n",
       "      <td>OffSeason</td>\n",
       "      <td>[4-7]</td>\n",
       "      <td>Standard</td>\n",
       "      <td>[0-160]</td>\n",
       "      <td>[3-4]</td>\n",
       "      <td>True</td>\n",
       "    </tr>\n",
       "    <tr>\n",
       "      <th>7</th>\n",
       "      <td>1</td>\n",
       "      <td>292</td>\n",
       "      <td>1.0</td>\n",
       "      <td>LowSeason</td>\n",
       "      <td>[0-1]</td>\n",
       "      <td>Standard</td>\n",
       "      <td>[160-260]</td>\n",
       "      <td>[3-4]</td>\n",
       "      <td>True</td>\n",
       "    </tr>\n",
       "    <tr>\n",
       "      <th>8</th>\n",
       "      <td>1</td>\n",
       "      <td>16</td>\n",
       "      <td>1.0</td>\n",
       "      <td>OffSeason</td>\n",
       "      <td>[4-7]</td>\n",
       "      <td>Standard</td>\n",
       "      <td>[260-360]</td>\n",
       "      <td>[5-inf]</td>\n",
       "      <td>True</td>\n",
       "    </tr>\n",
       "    <tr>\n",
       "      <th>9</th>\n",
       "      <td>1</td>\n",
       "      <td>24</td>\n",
       "      <td>1.0</td>\n",
       "      <td>OffSeason</td>\n",
       "      <td>[2-3]</td>\n",
       "      <td>Standard</td>\n",
       "      <td>[260-360]</td>\n",
       "      <td>[3-4]</td>\n",
       "      <td>True</td>\n",
       "    </tr>\n",
       "    <tr>\n",
       "      <th>10</th>\n",
       "      <td>2</td>\n",
       "      <td>55</td>\n",
       "      <td>1.0</td>\n",
       "      <td>OffSeason</td>\n",
       "      <td>[2-3]</td>\n",
       "      <td>Nonref</td>\n",
       "      <td>[160-260]</td>\n",
       "      <td>[2-2]</td>\n",
       "      <td>True</td>\n",
       "    </tr>\n",
       "    <tr>\n",
       "      <th>11</th>\n",
       "      <td>2</td>\n",
       "      <td>1</td>\n",
       "      <td>1.0</td>\n",
       "      <td>WinterVacation</td>\n",
       "      <td>[2-3]</td>\n",
       "      <td>Standard</td>\n",
       "      <td>[160-260]</td>\n",
       "      <td>[3-4]</td>\n",
       "      <td>True</td>\n",
       "    </tr>\n",
       "    <tr>\n",
       "      <th>12</th>\n",
       "      <td>2</td>\n",
       "      <td>199</td>\n",
       "      <td>1.0</td>\n",
       "      <td>LowSeason</td>\n",
       "      <td>[2-3]</td>\n",
       "      <td>Nonref</td>\n",
       "      <td>[160-260]</td>\n",
       "      <td>[3-4]</td>\n",
       "      <td>True</td>\n",
       "    </tr>\n",
       "    <tr>\n",
       "      <th>13</th>\n",
       "      <td>2</td>\n",
       "      <td>53</td>\n",
       "      <td>1.0</td>\n",
       "      <td>OffSeason</td>\n",
       "      <td>[2-3]</td>\n",
       "      <td>Nonref</td>\n",
       "      <td>[160-260]</td>\n",
       "      <td>[2-2]</td>\n",
       "      <td>False</td>\n",
       "    </tr>\n",
       "    <tr>\n",
       "      <th>14</th>\n",
       "      <td>2</td>\n",
       "      <td>138</td>\n",
       "      <td>0.999998</td>\n",
       "      <td>OffSeason</td>\n",
       "      <td>[2-3]</td>\n",
       "      <td>Nonref</td>\n",
       "      <td>[160-260]</td>\n",
       "      <td>[1-1]</td>\n",
       "      <td>True</td>\n",
       "    </tr>\n",
       "    <tr>\n",
       "      <th>15</th>\n",
       "      <td>2</td>\n",
       "      <td>155</td>\n",
       "      <td>0.999988</td>\n",
       "      <td>OffSeason</td>\n",
       "      <td>[2-3]</td>\n",
       "      <td>Nonref</td>\n",
       "      <td>[160-260]</td>\n",
       "      <td>[1-1]</td>\n",
       "      <td>False</td>\n",
       "    </tr>\n",
       "    <tr>\n",
       "      <th>16</th>\n",
       "      <td>2</td>\n",
       "      <td>173</td>\n",
       "      <td>0.999981</td>\n",
       "      <td>OffSeason</td>\n",
       "      <td>[0-1]</td>\n",
       "      <td>Standard</td>\n",
       "      <td>[160-260]</td>\n",
       "      <td>[3-4]</td>\n",
       "      <td>True</td>\n",
       "    </tr>\n",
       "    <tr>\n",
       "      <th>17</th>\n",
       "      <td>2</td>\n",
       "      <td>69</td>\n",
       "      <td>0.999976</td>\n",
       "      <td>OffSeason</td>\n",
       "      <td>[2-3]</td>\n",
       "      <td>Nonref</td>\n",
       "      <td>[0-160]</td>\n",
       "      <td>[2-2]</td>\n",
       "      <td>True</td>\n",
       "    </tr>\n",
       "    <tr>\n",
       "      <th>18</th>\n",
       "      <td>2</td>\n",
       "      <td>3</td>\n",
       "      <td>0.999961</td>\n",
       "      <td>WinterVacation</td>\n",
       "      <td>[4-7]</td>\n",
       "      <td>Standard</td>\n",
       "      <td>[160-260]</td>\n",
       "      <td>[3-4]</td>\n",
       "      <td>True</td>\n",
       "    </tr>\n",
       "    <tr>\n",
       "      <th>19</th>\n",
       "      <td>2</td>\n",
       "      <td>22</td>\n",
       "      <td>0.999918</td>\n",
       "      <td>OffSeason</td>\n",
       "      <td>[2-3]</td>\n",
       "      <td>Standard</td>\n",
       "      <td>[160-260]</td>\n",
       "      <td>[3-4]</td>\n",
       "      <td>True</td>\n",
       "    </tr>\n",
       "    <tr>\n",
       "      <th>20</th>\n",
       "      <td>3</td>\n",
       "      <td>87</td>\n",
       "      <td>1.0</td>\n",
       "      <td>OffSeason</td>\n",
       "      <td>[2-3]</td>\n",
       "      <td>Nonref</td>\n",
       "      <td>[260-360]</td>\n",
       "      <td>[3-4]</td>\n",
       "      <td>True</td>\n",
       "    </tr>\n",
       "    <tr>\n",
       "      <th>21</th>\n",
       "      <td>3</td>\n",
       "      <td>199</td>\n",
       "      <td>1.0</td>\n",
       "      <td>LowSeason</td>\n",
       "      <td>[2-3]</td>\n",
       "      <td>Nonref</td>\n",
       "      <td>[160-260]</td>\n",
       "      <td>[3-4]</td>\n",
       "      <td>True</td>\n",
       "    </tr>\n",
       "    <tr>\n",
       "      <th>22</th>\n",
       "      <td>3</td>\n",
       "      <td>617</td>\n",
       "      <td>1.0</td>\n",
       "      <td>MayLongWeekend</td>\n",
       "      <td>[0-1]</td>\n",
       "      <td>Nonref</td>\n",
       "      <td>[160-260]</td>\n",
       "      <td>[2-2]</td>\n",
       "      <td>True</td>\n",
       "    </tr>\n",
       "    <tr>\n",
       "      <th>23</th>\n",
       "      <td>3</td>\n",
       "      <td>376</td>\n",
       "      <td>1.0</td>\n",
       "      <td>WinterVacation</td>\n",
       "      <td>[2-3]</td>\n",
       "      <td>Standard</td>\n",
       "      <td>[160-260]</td>\n",
       "      <td>[3-4]</td>\n",
       "      <td>False</td>\n",
       "    </tr>\n",
       "    <tr>\n",
       "      <th>24</th>\n",
       "      <td>3</td>\n",
       "      <td>34</td>\n",
       "      <td>1.0</td>\n",
       "      <td>OffSeason</td>\n",
       "      <td>[2-3]</td>\n",
       "      <td>Standard</td>\n",
       "      <td>[160-260]</td>\n",
       "      <td>[3-4]</td>\n",
       "      <td>False</td>\n",
       "    </tr>\n",
       "    <tr>\n",
       "      <th>25</th>\n",
       "      <td>3</td>\n",
       "      <td>326</td>\n",
       "      <td>1.0</td>\n",
       "      <td>HighSeason</td>\n",
       "      <td>[0-1]</td>\n",
       "      <td>Nonref</td>\n",
       "      <td>[160-260]</td>\n",
       "      <td>[3-4]</td>\n",
       "      <td>True</td>\n",
       "    </tr>\n",
       "    <tr>\n",
       "      <th>26</th>\n",
       "      <td>3</td>\n",
       "      <td>418</td>\n",
       "      <td>1.0</td>\n",
       "      <td>NewYear</td>\n",
       "      <td>[2-3]</td>\n",
       "      <td>Nonref</td>\n",
       "      <td>[260-360]</td>\n",
       "      <td>[5-inf]</td>\n",
       "      <td>False</td>\n",
       "    </tr>\n",
       "    <tr>\n",
       "      <th>27</th>\n",
       "      <td>3</td>\n",
       "      <td>128</td>\n",
       "      <td>1.0</td>\n",
       "      <td>WinterVacation</td>\n",
       "      <td>[0-1]</td>\n",
       "      <td>Standard</td>\n",
       "      <td>[260-360]</td>\n",
       "      <td>[3-4]</td>\n",
       "      <td>False</td>\n",
       "    </tr>\n",
       "    <tr>\n",
       "      <th>28</th>\n",
       "      <td>3</td>\n",
       "      <td>55</td>\n",
       "      <td>1.0</td>\n",
       "      <td>OffSeason</td>\n",
       "      <td>[2-3]</td>\n",
       "      <td>Nonref</td>\n",
       "      <td>[160-260]</td>\n",
       "      <td>[2-2]</td>\n",
       "      <td>True</td>\n",
       "    </tr>\n",
       "    <tr>\n",
       "      <th>29</th>\n",
       "      <td>3</td>\n",
       "      <td>138</td>\n",
       "      <td>1.0</td>\n",
       "      <td>OffSeason</td>\n",
       "      <td>[2-3]</td>\n",
       "      <td>Nonref</td>\n",
       "      <td>[160-260]</td>\n",
       "      <td>[1-1]</td>\n",
       "      <td>True</td>\n",
       "    </tr>\n",
       "    <tr>\n",
       "      <th>30</th>\n",
       "      <td>4</td>\n",
       "      <td>173</td>\n",
       "      <td>1.0</td>\n",
       "      <td>OffSeason</td>\n",
       "      <td>[0-1]</td>\n",
       "      <td>Standard</td>\n",
       "      <td>[160-260]</td>\n",
       "      <td>[3-4]</td>\n",
       "      <td>True</td>\n",
       "    </tr>\n",
       "    <tr>\n",
       "      <th>31</th>\n",
       "      <td>4</td>\n",
       "      <td>12</td>\n",
       "      <td>0.999998</td>\n",
       "      <td>LowSeason</td>\n",
       "      <td>[4-7]</td>\n",
       "      <td>Standard</td>\n",
       "      <td>[160-260]</td>\n",
       "      <td>[3-4]</td>\n",
       "      <td>True</td>\n",
       "    </tr>\n",
       "    <tr>\n",
       "      <th>32</th>\n",
       "      <td>4</td>\n",
       "      <td>53</td>\n",
       "      <td>0.999998</td>\n",
       "      <td>OffSeason</td>\n",
       "      <td>[2-3]</td>\n",
       "      <td>Nonref</td>\n",
       "      <td>[160-260]</td>\n",
       "      <td>[2-2]</td>\n",
       "      <td>False</td>\n",
       "    </tr>\n",
       "    <tr>\n",
       "      <th>33</th>\n",
       "      <td>4</td>\n",
       "      <td>1</td>\n",
       "      <td>0.999981</td>\n",
       "      <td>WinterVacation</td>\n",
       "      <td>[2-3]</td>\n",
       "      <td>Standard</td>\n",
       "      <td>[160-260]</td>\n",
       "      <td>[3-4]</td>\n",
       "      <td>True</td>\n",
       "    </tr>\n",
       "    <tr>\n",
       "      <th>34</th>\n",
       "      <td>4</td>\n",
       "      <td>23</td>\n",
       "      <td>0.999972</td>\n",
       "      <td>OffSeason</td>\n",
       "      <td>[4-7]</td>\n",
       "      <td>Standard</td>\n",
       "      <td>[160-260]</td>\n",
       "      <td>[2-2]</td>\n",
       "      <td>True</td>\n",
       "    </tr>\n",
       "    <tr>\n",
       "      <th>35</th>\n",
       "      <td>4</td>\n",
       "      <td>22</td>\n",
       "      <td>0.99995</td>\n",
       "      <td>OffSeason</td>\n",
       "      <td>[2-3]</td>\n",
       "      <td>Standard</td>\n",
       "      <td>[160-260]</td>\n",
       "      <td>[3-4]</td>\n",
       "      <td>True</td>\n",
       "    </tr>\n",
       "    <tr>\n",
       "      <th>36</th>\n",
       "      <td>4</td>\n",
       "      <td>133</td>\n",
       "      <td>0.999943</td>\n",
       "      <td>WinterVacation</td>\n",
       "      <td>[2-3]</td>\n",
       "      <td>Nonref</td>\n",
       "      <td>[160-260]</td>\n",
       "      <td>[3-4]</td>\n",
       "      <td>False</td>\n",
       "    </tr>\n",
       "    <tr>\n",
       "      <th>37</th>\n",
       "      <td>4</td>\n",
       "      <td>157</td>\n",
       "      <td>0.999827</td>\n",
       "      <td>LowSeason</td>\n",
       "      <td>[2-3]</td>\n",
       "      <td>Standard</td>\n",
       "      <td>[160-260]</td>\n",
       "      <td>[2-2]</td>\n",
       "      <td>True</td>\n",
       "    </tr>\n",
       "    <tr>\n",
       "      <th>38</th>\n",
       "      <td>4</td>\n",
       "      <td>51</td>\n",
       "      <td>0.99974</td>\n",
       "      <td>OffSeason</td>\n",
       "      <td>[2-3]</td>\n",
       "      <td>Nonref</td>\n",
       "      <td>[160-260]</td>\n",
       "      <td>[3-4]</td>\n",
       "      <td>True</td>\n",
       "    </tr>\n",
       "    <tr>\n",
       "      <th>39</th>\n",
       "      <td>4</td>\n",
       "      <td>349</td>\n",
       "      <td>0.999714</td>\n",
       "      <td>HighSeason</td>\n",
       "      <td>[0-1]</td>\n",
       "      <td>Standard</td>\n",
       "      <td>[260-360]</td>\n",
       "      <td>[5-inf]</td>\n",
       "      <td>False</td>\n",
       "    </tr>\n",
       "    <tr>\n",
       "      <th>40</th>\n",
       "      <td>5</td>\n",
       "      <td>135</td>\n",
       "      <td>0.999992</td>\n",
       "      <td>OffSeason</td>\n",
       "      <td>[8-inf]</td>\n",
       "      <td>Nonref</td>\n",
       "      <td>[160-260]</td>\n",
       "      <td>[2-2]</td>\n",
       "      <td>True</td>\n",
       "    </tr>\n",
       "    <tr>\n",
       "      <th>41</th>\n",
       "      <td>5</td>\n",
       "      <td>735</td>\n",
       "      <td>0.999989</td>\n",
       "      <td>HighSeason</td>\n",
       "      <td>[8-inf]</td>\n",
       "      <td>Standard</td>\n",
       "      <td>[160-260]</td>\n",
       "      <td>[1-1]</td>\n",
       "      <td>True</td>\n",
       "    </tr>\n",
       "    <tr>\n",
       "      <th>42</th>\n",
       "      <td>5</td>\n",
       "      <td>242</td>\n",
       "      <td>0.999987</td>\n",
       "      <td>MayLongWeekend</td>\n",
       "      <td>[2-3]</td>\n",
       "      <td>Nonref</td>\n",
       "      <td>[160-260]</td>\n",
       "      <td>[1-1]</td>\n",
       "      <td>True</td>\n",
       "    </tr>\n",
       "    <tr>\n",
       "      <th>43</th>\n",
       "      <td>5</td>\n",
       "      <td>249</td>\n",
       "      <td>0.999986</td>\n",
       "      <td>HighSeason</td>\n",
       "      <td>[0-1]</td>\n",
       "      <td>Nonref</td>\n",
       "      <td>[160-260]</td>\n",
       "      <td>[3-4]</td>\n",
       "      <td>False</td>\n",
       "    </tr>\n",
       "    <tr>\n",
       "      <th>44</th>\n",
       "      <td>5</td>\n",
       "      <td>3</td>\n",
       "      <td>0.999962</td>\n",
       "      <td>WinterVacation</td>\n",
       "      <td>[4-7]</td>\n",
       "      <td>Standard</td>\n",
       "      <td>[160-260]</td>\n",
       "      <td>[3-4]</td>\n",
       "      <td>True</td>\n",
       "    </tr>\n",
       "    <tr>\n",
       "      <th>45</th>\n",
       "      <td>5</td>\n",
       "      <td>119</td>\n",
       "      <td>0.999958</td>\n",
       "      <td>HighSeason</td>\n",
       "      <td>[4-7]</td>\n",
       "      <td>Standard</td>\n",
       "      <td>[260-360]</td>\n",
       "      <td>[2-2]</td>\n",
       "      <td>True</td>\n",
       "    </tr>\n",
       "    <tr>\n",
       "      <th>46</th>\n",
       "      <td>5</td>\n",
       "      <td>409</td>\n",
       "      <td>0.999887</td>\n",
       "      <td>LowSeason</td>\n",
       "      <td>[4-7]</td>\n",
       "      <td>Nonref</td>\n",
       "      <td>[160-260]</td>\n",
       "      <td>[1-1]</td>\n",
       "      <td>False</td>\n",
       "    </tr>\n",
       "    <tr>\n",
       "      <th>47</th>\n",
       "      <td>5</td>\n",
       "      <td>452</td>\n",
       "      <td>0.999882</td>\n",
       "      <td>NewYear</td>\n",
       "      <td>[4-7]</td>\n",
       "      <td>Nonref</td>\n",
       "      <td>[160-260]</td>\n",
       "      <td>[2-2]</td>\n",
       "      <td>True</td>\n",
       "    </tr>\n",
       "    <tr>\n",
       "      <th>48</th>\n",
       "      <td>5</td>\n",
       "      <td>285</td>\n",
       "      <td>0.999865</td>\n",
       "      <td>HighSeason</td>\n",
       "      <td>[2-3]</td>\n",
       "      <td>Standard</td>\n",
       "      <td>[160-260]</td>\n",
       "      <td>[5-inf]</td>\n",
       "      <td>False</td>\n",
       "    </tr>\n",
       "    <tr>\n",
       "      <th>49</th>\n",
       "      <td>5</td>\n",
       "      <td>698</td>\n",
       "      <td>0.999735</td>\n",
       "      <td>WinterVacation</td>\n",
       "      <td>[4-7]</td>\n",
       "      <td>Nonref</td>\n",
       "      <td>[0-160]</td>\n",
       "      <td>[3-4]</td>\n",
       "      <td>False</td>\n",
       "    </tr>\n",
       "  </tbody>\n",
       "</table>"
      ],
      "text/plain": [
       "<IPython.core.display.HTML object>"
      ]
     },
     "metadata": {},
     "output_type": "display_data"
    }
   ],
   "source": [
    "recommendations = nn_recommender.recommend(pd.DataFrame([[1], [2], [3], [4], [5]], columns=['user_id']), items_df, 10)\n",
    "recommendations = pd.merge(recommendations, items_df, on='item_id', how='left')\n",
    "\n",
    "display(HTML(recommendations.to_html()))"
   ]
  },
  {
   "cell_type": "markdown",
   "id": "advanced-eleven",
   "metadata": {},
   "source": [
    "# Tuning method"
   ]
  },
  {
   "cell_type": "code",
   "execution_count": 20,
   "id": "strange-alaska",
   "metadata": {},
   "outputs": [],
   "source": [
    "from evaluation_and_testing.testing import evaluate_train_test_split_implicit\n",
    "\n",
    "seed = 6789"
   ]
  },
  {
   "cell_type": "code",
   "execution_count": 10,
   "id": "stable-theta",
   "metadata": {},
   "outputs": [],
   "source": [
    "def tune_recommender(recommender_class, interactions_df, items_df, param_space, max_evals=1, show_progressbar=True, seed=6789):\n",
    "    # Split into train_validation and test sets\n",
    "\n",
    "    shuffle = np.arange(len(interactions_df))\n",
    "    rng = np.random.RandomState(seed=seed)\n",
    "    rng.shuffle(shuffle)\n",
    "    shuffle = list(shuffle)\n",
    "\n",
    "    train_test_split = 0.8\n",
    "    split_index = int(len(interactions_df) * train_test_split)\n",
    "\n",
    "    train_validation = interactions_df.iloc[shuffle[:split_index]]\n",
    "    test = interactions_df.iloc[shuffle[split_index:]]\n",
    "\n",
    "    # Tune\n",
    "\n",
    "    def loss(tuned_params):\n",
    "        recommender = recommender_class(seed=seed, **tuned_params)\n",
    "        hr1, hr3, hr5, hr10, ndcg1, ndcg3, ndcg5, ndcg10 = evaluate_train_test_split_implicit(\n",
    "            recommender, train_validation, items_df, seed=seed)\n",
    "        return -hr10\n",
    "\n",
    "    n_tries = 1\n",
    "    succeded = False\n",
    "    try_id = 0\n",
    "    while not succeded and try_id < n_tries:\n",
    "        try:\n",
    "            trials = Trials()\n",
    "            best_param_set = fmin(loss, space=param_space, algo=tpe.suggest, \n",
    "                                  max_evals=max_evals, show_progressbar=show_progressbar, trials=trials, verbose=True)\n",
    "            succeded = True\n",
    "        except:\n",
    "            traceback.print_exc()\n",
    "            try_id += 1\n",
    "            \n",
    "    if not succeded:\n",
    "        return None\n",
    "        \n",
    "    # Validate\n",
    "    \n",
    "    recommender = recommender_class(seed=seed, **best_param_set)\n",
    "\n",
    "    results = [[recommender_class.__name__] + list(evaluate_train_test_split_implicit(recommender, {'train': train_validation, 'test': test}, items_df, seed=seed))]\n",
    "\n",
    "    results = pd.DataFrame(results, columns=['Recommender', 'HR@1', 'HR@3', 'HR@5', 'HR@10', 'NDCG@1', 'NDCG@3', 'NDCG@5', 'NDCG@10'])\n",
    "\n",
    "    display(HTML(results.to_html()))\n",
    "    \n",
    "    return best_param_set"
   ]
  },
  {
   "cell_type": "markdown",
   "id": "reliable-switzerland",
   "metadata": {},
   "source": [
    "## Tuning of the recommender\n",
    "\n",
    "<span style=\"color:red\"><font size=\"4\">**Task:**</font></span><br> \n",
    "Tune your model using the code below. You only need to put the class name of your recommender and choose an appropriate parameter space."
   ]
  },
  {
   "cell_type": "markdown",
   "id": "b9833de2",
   "metadata": {},
   "source": [
    "## Empirical Tunning of: epochs number, embedding size, hidden size and batch size"
   ]
  },
  {
   "cell_type": "markdown",
   "id": "236e7d27",
   "metadata": {},
   "source": [
    "I've tested many configurations but in the end GMF with Adam seems the best so in decided to tune above params with that configuration because doing it with all possible configurations would be too time-consuming."
   ]
  },
  {
   "cell_type": "markdown",
   "id": "4dfc9b59",
   "metadata": {},
   "source": [
    "### Epochs number"
   ]
  },
  {
   "cell_type": "code",
   "execution_count": 11,
   "id": "80031b02",
   "metadata": {},
   "outputs": [
    {
     "data": {
      "image/png": "[encoded data removed]",
      "text/plain": [
       "<Figure size 864x576 with 2 Axes>"
      ]
     },
     "metadata": {
      "needs_background": "light"
     },
     "output_type": "display_data"
    },
    {
     "name": "stdout",
     "output_type": "stream",
     "text": [
      "Loss\n",
      "\ttraining         \t (min:    0.019, max:    0.695, cur:    0.019)\n",
      "\tvalidation       \t (min:    0.695, max:    3.629, cur:    3.629)\n"
     ]
    },
    {
     "data": {
      "text/html": [
       "<table border=\"1\" class=\"dataframe\">\n",
       "  <thead>\n",
       "    <tr style=\"text-align: right;\">\n",
       "      <th></th>\n",
       "      <th>Recommender</th>\n",
       "      <th>HR@1</th>\n",
       "      <th>HR@3</th>\n",
       "      <th>HR@5</th>\n",
       "      <th>HR@10</th>\n",
       "      <th>NDCG@1</th>\n",
       "      <th>NDCG@3</th>\n",
       "      <th>NDCG@5</th>\n",
       "      <th>NDCG@10</th>\n",
       "    </tr>\n",
       "  </thead>\n",
       "  <tbody>\n",
       "    <tr>\n",
       "      <th>0</th>\n",
       "      <td>GMFRecommenderWithAdamOptimizer</td>\n",
       "      <td>0.043788</td>\n",
       "      <td>0.118805</td>\n",
       "      <td>0.160557</td>\n",
       "      <td>0.221656</td>\n",
       "      <td>0.043788</td>\n",
       "      <td>0.086585</td>\n",
       "      <td>0.104031</td>\n",
       "      <td>0.123687</td>\n",
       "    </tr>\n",
       "  </tbody>\n",
       "</table>"
      ],
      "text/plain": [
       "<IPython.core.display.HTML object>"
      ]
     },
     "metadata": {},
     "output_type": "display_data"
    }
   ],
   "source": [
    "params = {\n",
    "    'model_name': 'GMF',\n",
    "    'optimizer_name': 'Adam',\n",
    "    'n_epochs': 10,\n",
    "    'train': True\n",
    "}\n",
    "\n",
    "gmf_adam_recommender = NNRecommender(**params)\n",
    "gmf_adam_tts_results = [['GMFRecommenderWithAdamOptimizer'] + list(evaluate_train_test_split_implicit(gmf_adam_recommender, interactions_df, items_df))]\n",
    "gmf_adam_tts_results = pd.DataFrame(gmf_adam_tts_results, columns=['Recommender', 'HR@1', 'HR@3', 'HR@5', 'HR@10', 'NDCG@1', 'NDCG@3', 'NDCG@5', 'NDCG@10'])\n",
    "\n",
    "display(HTML(gmf_adam_tts_results.to_html()))"
   ]
  },
  {
   "cell_type": "code",
   "execution_count": 12,
   "id": "a584aac1",
   "metadata": {},
   "outputs": [
    {
     "data": {
      "image/png": "[encoded data removed]",
      "text/plain": [
       "<Figure size 864x576 with 2 Axes>"
      ]
     },
     "metadata": {
      "needs_background": "light"
     },
     "output_type": "display_data"
    },
    {
     "name": "stdout",
     "output_type": "stream",
     "text": [
      "Loss\n",
      "\ttraining         \t (min:    0.000, max:    0.695, cur:    0.000)\n",
      "\tvalidation       \t (min:    0.695, max:    4.965, cur:    4.965)\n"
     ]
    },
    {
     "data": {
      "text/html": [
       "<table border=\"1\" class=\"dataframe\">\n",
       "  <thead>\n",
       "    <tr style=\"text-align: right;\">\n",
       "      <th></th>\n",
       "      <th>Recommender</th>\n",
       "      <th>HR@1</th>\n",
       "      <th>HR@3</th>\n",
       "      <th>HR@5</th>\n",
       "      <th>HR@10</th>\n",
       "      <th>NDCG@1</th>\n",
       "      <th>NDCG@3</th>\n",
       "      <th>NDCG@5</th>\n",
       "      <th>NDCG@10</th>\n",
       "    </tr>\n",
       "  </thead>\n",
       "  <tbody>\n",
       "    <tr>\n",
       "      <th>0</th>\n",
       "      <td>GMFRecommenderWithAdamOptimizer</td>\n",
       "      <td>0.044128</td>\n",
       "      <td>0.118466</td>\n",
       "      <td>0.160896</td>\n",
       "      <td>0.225051</td>\n",
       "      <td>0.044128</td>\n",
       "      <td>0.086585</td>\n",
       "      <td>0.104294</td>\n",
       "      <td>0.124861</td>\n",
       "    </tr>\n",
       "  </tbody>\n",
       "</table>"
      ],
      "text/plain": [
       "<IPython.core.display.HTML object>"
      ]
     },
     "metadata": {},
     "output_type": "display_data"
    }
   ],
   "source": [
    "params = {\n",
    "    'model_name': 'GMF',\n",
    "    'optimizer_name': 'Adam',\n",
    "    'n_epochs': 50,\n",
    "    'train': True\n",
    "}\n",
    "\n",
    "gmf_adam_recommender = NNRecommender(**params)\n",
    "gmf_adam_tts_results = [['GMFRecommenderWithAdamOptimizer'] + list(evaluate_train_test_split_implicit(gmf_adam_recommender, interactions_df, items_df))]\n",
    "gmf_adam_tts_results = pd.DataFrame(gmf_adam_tts_results, columns=['Recommender', 'HR@1', 'HR@3', 'HR@5', 'HR@10', 'NDCG@1', 'NDCG@3', 'NDCG@5', 'NDCG@10'])\n",
    "\n",
    "display(HTML(gmf_adam_tts_results.to_html()))"
   ]
  },
  {
   "cell_type": "markdown",
   "id": "9d8cffb9",
   "metadata": {},
   "source": [
    "Comparison of these two runs of recommender shows that increasing number of epochs didn't really make a big change. I analysed how loss changed during many runs and found that n_epochs around value of 15 appears to be optimal."
   ]
  },
  {
   "cell_type": "markdown",
   "id": "15ef926b",
   "metadata": {},
   "source": [
    "### Embedding size"
   ]
  },
  {
   "cell_type": "code",
   "execution_count": 13,
   "id": "e69ee795",
   "metadata": {},
   "outputs": [
    {
     "data": {
      "image/png": "[encoded data removed]",
      "text/plain": [
       "<Figure size 864x576 with 2 Axes>"
      ]
     },
     "metadata": {
      "needs_background": "light"
     },
     "output_type": "display_data"
    },
    {
     "name": "stdout",
     "output_type": "stream",
     "text": [
      "Loss\n",
      "\ttraining         \t (min:    0.002, max:    0.695, cur:    0.002)\n",
      "\tvalidation       \t (min:    0.694, max:    4.721, cur:    4.721)\n"
     ]
    },
    {
     "data": {
      "text/html": [
       "<table border=\"1\" class=\"dataframe\">\n",
       "  <thead>\n",
       "    <tr style=\"text-align: right;\">\n",
       "      <th></th>\n",
       "      <th>Recommender</th>\n",
       "      <th>HR@1</th>\n",
       "      <th>HR@3</th>\n",
       "      <th>HR@5</th>\n",
       "      <th>HR@10</th>\n",
       "      <th>NDCG@1</th>\n",
       "      <th>NDCG@3</th>\n",
       "      <th>NDCG@5</th>\n",
       "      <th>NDCG@10</th>\n",
       "    </tr>\n",
       "  </thead>\n",
       "  <tbody>\n",
       "    <tr>\n",
       "      <th>0</th>\n",
       "      <td>GMFRecommenderWithAdamOptimizer</td>\n",
       "      <td>0.043788</td>\n",
       "      <td>0.118466</td>\n",
       "      <td>0.160217</td>\n",
       "      <td>0.220638</td>\n",
       "      <td>0.043788</td>\n",
       "      <td>0.08646</td>\n",
       "      <td>0.103906</td>\n",
       "      <td>0.123386</td>\n",
       "    </tr>\n",
       "  </tbody>\n",
       "</table>"
      ],
      "text/plain": [
       "<IPython.core.display.HTML object>"
      ]
     },
     "metadata": {},
     "output_type": "display_data"
    }
   ],
   "source": [
    "params = {\n",
    "    'model_name': 'GMF',\n",
    "    'optimizer_name': 'Adam',\n",
    "    'n_epochs': 15,\n",
    "    'embedding_dim': 8,\n",
    "    'train': True\n",
    "}\n",
    "\n",
    "gmf_adam_recommender = NNRecommender(**params)\n",
    "gmf_adam_tts_results = [['GMFRecommenderWithAdamOptimizer'] + list(evaluate_train_test_split_implicit(gmf_adam_recommender, interactions_df, items_df))]\n",
    "gmf_adam_tts_results = pd.DataFrame(gmf_adam_tts_results, columns=['Recommender', 'HR@1', 'HR@3', 'HR@5', 'HR@10', 'NDCG@1', 'NDCG@3', 'NDCG@5', 'NDCG@10'])\n",
    "\n",
    "display(HTML(gmf_adam_tts_results.to_html()))"
   ]
  },
  {
   "cell_type": "code",
   "execution_count": 14,
   "id": "d2955c7f",
   "metadata": {},
   "outputs": [
    {
     "data": {
      "image/png": "[encoded data removed]",
      "text/plain": [
       "<Figure size 864x576 with 2 Axes>"
      ]
     },
     "metadata": {
      "needs_background": "light"
     },
     "output_type": "display_data"
    },
    {
     "name": "stdout",
     "output_type": "stream",
     "text": [
      "Loss\n",
      "\ttraining         \t (min:    0.000, max:    0.704, cur:    0.000)\n",
      "\tvalidation       \t (min:    0.703, max:    3.085, cur:    3.085)\n"
     ]
    },
    {
     "data": {
      "text/html": [
       "<table border=\"1\" class=\"dataframe\">\n",
       "  <thead>\n",
       "    <tr style=\"text-align: right;\">\n",
       "      <th></th>\n",
       "      <th>Recommender</th>\n",
       "      <th>HR@1</th>\n",
       "      <th>HR@3</th>\n",
       "      <th>HR@5</th>\n",
       "      <th>HR@10</th>\n",
       "      <th>NDCG@1</th>\n",
       "      <th>NDCG@3</th>\n",
       "      <th>NDCG@5</th>\n",
       "      <th>NDCG@10</th>\n",
       "    </tr>\n",
       "  </thead>\n",
       "  <tbody>\n",
       "    <tr>\n",
       "      <th>0</th>\n",
       "      <td>GMFRecommenderWithAdamOptimizer</td>\n",
       "      <td>0.044128</td>\n",
       "      <td>0.119484</td>\n",
       "      <td>0.161575</td>\n",
       "      <td>0.223693</td>\n",
       "      <td>0.044128</td>\n",
       "      <td>0.087139</td>\n",
       "      <td>0.104716</td>\n",
       "      <td>0.124728</td>\n",
       "    </tr>\n",
       "  </tbody>\n",
       "</table>"
      ],
      "text/plain": [
       "<IPython.core.display.HTML object>"
      ]
     },
     "metadata": {},
     "output_type": "display_data"
    }
   ],
   "source": [
    "params = {\n",
    "    'model_name': 'GMF',\n",
    "    'optimizer_name': 'Adam',\n",
    "    'n_epochs': 15,\n",
    "    'embedding_dim': 64,\n",
    "    'train': True\n",
    "}\n",
    "\n",
    "gmf_adam_recommender = NNRecommender(**params)\n",
    "gmf_adam_tts_results = [['GMFRecommenderWithAdamOptimizer'] + list(evaluate_train_test_split_implicit(gmf_adam_recommender, interactions_df, items_df))]\n",
    "gmf_adam_tts_results = pd.DataFrame(gmf_adam_tts_results, columns=['Recommender', 'HR@1', 'HR@3', 'HR@5', 'HR@10', 'NDCG@1', 'NDCG@3', 'NDCG@5', 'NDCG@10'])\n",
    "\n",
    "display(HTML(gmf_adam_tts_results.to_html()))"
   ]
  },
  {
   "cell_type": "markdown",
   "id": "e07007c4",
   "metadata": {},
   "source": [
    "Increasing embedding size seems to make neural network learn faster and even 15 epochs are too much now but I think it have positive influence on final scores and I will go with embedding_size = 16"
   ]
  },
  {
   "cell_type": "markdown",
   "id": "2a585f8d",
   "metadata": {},
   "source": [
    "### Hidden size"
   ]
  },
  {
   "cell_type": "code",
   "execution_count": 15,
   "id": "9d36bd8a",
   "metadata": {},
   "outputs": [
    {
     "data": {
      "image/png": "[encoded data removed]",
      "text/plain": [
       "<Figure size 864x576 with 2 Axes>"
      ]
     },
     "metadata": {
      "needs_background": "light"
     },
     "output_type": "display_data"
    },
    {
     "name": "stdout",
     "output_type": "stream",
     "text": [
      "Loss\n",
      "\ttraining         \t (min:    0.000, max:    0.696, cur:    0.000)\n",
      "\tvalidation       \t (min:    0.696, max:    3.949, cur:    3.949)\n"
     ]
    },
    {
     "data": {
      "text/html": [
       "<table border=\"1\" class=\"dataframe\">\n",
       "  <thead>\n",
       "    <tr style=\"text-align: right;\">\n",
       "      <th></th>\n",
       "      <th>Recommender</th>\n",
       "      <th>HR@1</th>\n",
       "      <th>HR@3</th>\n",
       "      <th>HR@5</th>\n",
       "      <th>HR@10</th>\n",
       "      <th>NDCG@1</th>\n",
       "      <th>NDCG@3</th>\n",
       "      <th>NDCG@5</th>\n",
       "      <th>NDCG@10</th>\n",
       "    </tr>\n",
       "  </thead>\n",
       "  <tbody>\n",
       "    <tr>\n",
       "      <th>0</th>\n",
       "      <td>GMFRecommenderWithAdamOptimizer</td>\n",
       "      <td>0.043788</td>\n",
       "      <td>0.118805</td>\n",
       "      <td>0.160557</td>\n",
       "      <td>0.221656</td>\n",
       "      <td>0.043788</td>\n",
       "      <td>0.086674</td>\n",
       "      <td>0.104135</td>\n",
       "      <td>0.123761</td>\n",
       "    </tr>\n",
       "  </tbody>\n",
       "</table>"
      ],
      "text/plain": [
       "<IPython.core.display.HTML object>"
      ]
     },
     "metadata": {},
     "output_type": "display_data"
    }
   ],
   "source": [
    "params = {\n",
    "    'model_name': 'GMF',\n",
    "    'optimizer_name': 'Adam',\n",
    "    'n_epochs': 15,\n",
    "    'embedding_dim': 16,\n",
    "    'hidden_dim': 8,\n",
    "    'train': True\n",
    "}\n",
    "\n",
    "gmf_adam_recommender = NNRecommender(**params)\n",
    "gmf_adam_tts_results = [['GMFRecommenderWithAdamOptimizer'] + list(evaluate_train_test_split_implicit(gmf_adam_recommender, interactions_df, items_df))]\n",
    "gmf_adam_tts_results = pd.DataFrame(gmf_adam_tts_results, columns=['Recommender', 'HR@1', 'HR@3', 'HR@5', 'HR@10', 'NDCG@1', 'NDCG@3', 'NDCG@5', 'NDCG@10'])\n",
    "\n",
    "display(HTML(gmf_adam_tts_results.to_html()))"
   ]
  },
  {
   "cell_type": "code",
   "execution_count": 16,
   "id": "b48c99f9",
   "metadata": {},
   "outputs": [
    {
     "data": {
      "image/png": "[encoded data removed]",
      "text/plain": [
       "<Figure size 864x576 with 2 Axes>"
      ]
     },
     "metadata": {
      "needs_background": "light"
     },
     "output_type": "display_data"
    },
    {
     "name": "stdout",
     "output_type": "stream",
     "text": [
      "Loss\n",
      "\ttraining         \t (min:    0.000, max:    0.696, cur:    0.000)\n",
      "\tvalidation       \t (min:    0.698, max:    4.135, cur:    4.135)\n"
     ]
    },
    {
     "data": {
      "text/html": [
       "<table border=\"1\" class=\"dataframe\">\n",
       "  <thead>\n",
       "    <tr style=\"text-align: right;\">\n",
       "      <th></th>\n",
       "      <th>Recommender</th>\n",
       "      <th>HR@1</th>\n",
       "      <th>HR@3</th>\n",
       "      <th>HR@5</th>\n",
       "      <th>HR@10</th>\n",
       "      <th>NDCG@1</th>\n",
       "      <th>NDCG@3</th>\n",
       "      <th>NDCG@5</th>\n",
       "      <th>NDCG@10</th>\n",
       "    </tr>\n",
       "  </thead>\n",
       "  <tbody>\n",
       "    <tr>\n",
       "      <th>0</th>\n",
       "      <td>GMFRecommenderWithAdamOptimizer</td>\n",
       "      <td>0.043788</td>\n",
       "      <td>0.118466</td>\n",
       "      <td>0.160896</td>\n",
       "      <td>0.22539</td>\n",
       "      <td>0.043788</td>\n",
       "      <td>0.086416</td>\n",
       "      <td>0.104139</td>\n",
       "      <td>0.124734</td>\n",
       "    </tr>\n",
       "  </tbody>\n",
       "</table>"
      ],
      "text/plain": [
       "<IPython.core.display.HTML object>"
      ]
     },
     "metadata": {},
     "output_type": "display_data"
    }
   ],
   "source": [
    "params = {\n",
    "    'model_name': 'GMF',\n",
    "    'optimizer_name': 'Adam',\n",
    "    'n_epochs': 15,\n",
    "    'embedding_dim': 16,\n",
    "    'hidden_dim': 128,\n",
    "    'train': True\n",
    "}\n",
    "\n",
    "gmf_adam_recommender = NNRecommender(**params)\n",
    "gmf_adam_tts_results = [['GMFRecommenderWithAdamOptimizer'] + list(evaluate_train_test_split_implicit(gmf_adam_recommender, interactions_df, items_df))]\n",
    "gmf_adam_tts_results = pd.DataFrame(gmf_adam_tts_results, columns=['Recommender', 'HR@1', 'HR@3', 'HR@5', 'HR@10', 'NDCG@1', 'NDCG@3', 'NDCG@5', 'NDCG@10'])\n",
    "\n",
    "display(HTML(gmf_adam_tts_results.to_html()))"
   ]
  },
  {
   "cell_type": "markdown",
   "id": "b293f23a",
   "metadata": {},
   "source": [
    "To be honest I didn't notice any crucial changes related to hidden_dim value so I will keep it equal to embedding size which is 16."
   ]
  },
  {
   "cell_type": "markdown",
   "id": "bf3a06be",
   "metadata": {},
   "source": [
    "### Batch size"
   ]
  },
  {
   "cell_type": "code",
   "execution_count": 17,
   "id": "6433ab8b",
   "metadata": {},
   "outputs": [
    {
     "data": {
      "image/png": "[encoded data removed]",
      "text/plain": [
       "<Figure size 864x576 with 2 Axes>"
      ]
     },
     "metadata": {
      "needs_background": "light"
     },
     "output_type": "display_data"
    },
    {
     "name": "stdout",
     "output_type": "stream",
     "text": [
      "Loss\n",
      "\ttraining         \t (min:    0.000, max:    0.696, cur:    0.000)\n",
      "\tvalidation       \t (min:    0.695, max:    4.020, cur:    4.020)\n"
     ]
    },
    {
     "data": {
      "text/html": [
       "<table border=\"1\" class=\"dataframe\">\n",
       "  <thead>\n",
       "    <tr style=\"text-align: right;\">\n",
       "      <th></th>\n",
       "      <th>Recommender</th>\n",
       "      <th>HR@1</th>\n",
       "      <th>HR@3</th>\n",
       "      <th>HR@5</th>\n",
       "      <th>HR@10</th>\n",
       "      <th>NDCG@1</th>\n",
       "      <th>NDCG@3</th>\n",
       "      <th>NDCG@5</th>\n",
       "      <th>NDCG@10</th>\n",
       "    </tr>\n",
       "  </thead>\n",
       "  <tbody>\n",
       "    <tr>\n",
       "      <th>0</th>\n",
       "      <td>GMFRecommenderWithAdamOptimizer</td>\n",
       "      <td>0.043788</td>\n",
       "      <td>0.118466</td>\n",
       "      <td>0.161914</td>\n",
       "      <td>0.222335</td>\n",
       "      <td>0.043788</td>\n",
       "      <td>0.086416</td>\n",
       "      <td>0.104533</td>\n",
       "      <td>0.123953</td>\n",
       "    </tr>\n",
       "  </tbody>\n",
       "</table>"
      ],
      "text/plain": [
       "<IPython.core.display.HTML object>"
      ]
     },
     "metadata": {},
     "output_type": "display_data"
    }
   ],
   "source": [
    "params = {\n",
    "    'model_name': 'GMF',\n",
    "    'optimizer_name': 'Adam',\n",
    "    'n_epochs': 15,\n",
    "    'embedding_dim': 16,\n",
    "    'hidden_dim': 16,\n",
    "    'batch_size': 64,\n",
    "    'train': True\n",
    "}\n",
    "\n",
    "gmf_adam_recommender = NNRecommender(**params)\n",
    "gmf_adam_tts_results = [['GMFRecommenderWithAdamOptimizer'] + list(evaluate_train_test_split_implicit(gmf_adam_recommender, interactions_df, items_df))]\n",
    "gmf_adam_tts_results = pd.DataFrame(gmf_adam_tts_results, columns=['Recommender', 'HR@1', 'HR@3', 'HR@5', 'HR@10', 'NDCG@1', 'NDCG@3', 'NDCG@5', 'NDCG@10'])\n",
    "\n",
    "display(HTML(gmf_adam_tts_results.to_html()))"
   ]
  },
  {
   "cell_type": "code",
   "execution_count": 18,
   "id": "06eaab25",
   "metadata": {},
   "outputs": [
    {
     "data": {
      "image/png": "[encoded data removed]",
      "text/plain": [
       "<Figure size 864x576 with 2 Axes>"
      ]
     },
     "metadata": {
      "needs_background": "light"
     },
     "output_type": "display_data"
    },
    {
     "name": "stdout",
     "output_type": "stream",
     "text": [
      "Loss\n",
      "\ttraining         \t (min:    0.000, max:    0.695, cur:    0.000)\n",
      "\tvalidation       \t (min:    0.693, max:    3.845, cur:    3.845)\n"
     ]
    },
    {
     "data": {
      "text/html": [
       "<table border=\"1\" class=\"dataframe\">\n",
       "  <thead>\n",
       "    <tr style=\"text-align: right;\">\n",
       "      <th></th>\n",
       "      <th>Recommender</th>\n",
       "      <th>HR@1</th>\n",
       "      <th>HR@3</th>\n",
       "      <th>HR@5</th>\n",
       "      <th>HR@10</th>\n",
       "      <th>NDCG@1</th>\n",
       "      <th>NDCG@3</th>\n",
       "      <th>NDCG@5</th>\n",
       "      <th>NDCG@10</th>\n",
       "    </tr>\n",
       "  </thead>\n",
       "  <tbody>\n",
       "    <tr>\n",
       "      <th>0</th>\n",
       "      <td>GMFRecommenderWithAdamOptimizer</td>\n",
       "      <td>0.043788</td>\n",
       "      <td>0.119145</td>\n",
       "      <td>0.161575</td>\n",
       "      <td>0.223354</td>\n",
       "      <td>0.043788</td>\n",
       "      <td>0.086844</td>\n",
       "      <td>0.104567</td>\n",
       "      <td>0.124037</td>\n",
       "    </tr>\n",
       "  </tbody>\n",
       "</table>"
      ],
      "text/plain": [
       "<IPython.core.display.HTML object>"
      ]
     },
     "metadata": {},
     "output_type": "display_data"
    }
   ],
   "source": [
    "params = {\n",
    "    'model_name': 'GMF',\n",
    "    'optimizer_name': 'Adam',\n",
    "    'n_epochs': 15,\n",
    "    'embedding_dim': 16,\n",
    "    'hidden_dim': 16,\n",
    "    'batch_size': 128,\n",
    "    'train': True\n",
    "}\n",
    "\n",
    "gmf_adam_recommender = NNRecommender(**params)\n",
    "gmf_adam_tts_results = [['GMFRecommenderWithAdamOptimizer'] + list(evaluate_train_test_split_implicit(gmf_adam_recommender, interactions_df, items_df))]\n",
    "gmf_adam_tts_results = pd.DataFrame(gmf_adam_tts_results, columns=['Recommender', 'HR@1', 'HR@3', 'HR@5', 'HR@10', 'NDCG@1', 'NDCG@3', 'NDCG@5', 'NDCG@10'])\n",
    "\n",
    "display(HTML(gmf_adam_tts_results.to_html()))"
   ]
  },
  {
   "cell_type": "markdown",
   "id": "5376a83c",
   "metadata": {},
   "source": [
    "## Summary for tunning with optimizer params:\n",
    "\n",
    "After testing different configurations I decided to run recommenders with these parameters:\n",
    "\n",
    "- n_epochs: 15\n",
    "- embedding_dim: 16\n",
    "- hidden_dim: 16\n",
    "- batch_size: 128\n",
    "\n",
    "I'm sure they might be better but trying over and over was really time-consuming and didn't give big differences"
   ]
  },
  {
   "cell_type": "markdown",
   "metadata": {},
   "source": [
    "## GMFRecommender"
   ]
  },
  {
   "cell_type": "markdown",
   "id": "cad371fc",
   "metadata": {},
   "source": [
    "### Adam optimizer params tunning"
   ]
  },
  {
   "cell_type": "code",
   "execution_count": 21,
   "id": "ca136bce",
   "metadata": {},
   "outputs": [
    {
     "data": {
      "image/png": "[encoded data removed]",
      "text/plain": [
       "<Figure size 864x576 with 2 Axes>"
      ]
     },
     "metadata": {
      "needs_background": "light"
     },
     "output_type": "display_data"
    },
    {
     "name": "stdout",
     "output_type": "stream",
     "text": [
      "Loss\n",
      "\tloss             \t (min:    0.013, max:    0.695, cur:    0.013)\n"
     ]
    },
    {
     "data": {
      "text/html": [
       "<table border=\"1\" class=\"dataframe\">\n",
       "  <thead>\n",
       "    <tr style=\"text-align: right;\">\n",
       "      <th></th>\n",
       "      <th>Recommender</th>\n",
       "      <th>HR@1</th>\n",
       "      <th>HR@3</th>\n",
       "      <th>HR@5</th>\n",
       "      <th>HR@10</th>\n",
       "      <th>NDCG@1</th>\n",
       "      <th>NDCG@3</th>\n",
       "      <th>NDCG@5</th>\n",
       "      <th>NDCG@10</th>\n",
       "    </tr>\n",
       "  </thead>\n",
       "  <tbody>\n",
       "    <tr>\n",
       "      <th>0</th>\n",
       "      <td>GMFRecommender</td>\n",
       "      <td>0.046843</td>\n",
       "      <td>0.123897</td>\n",
       "      <td>0.166667</td>\n",
       "      <td>0.229464</td>\n",
       "      <td>0.046843</td>\n",
       "      <td>0.090837</td>\n",
       "      <td>0.108706</td>\n",
       "      <td>0.128955</td>\n",
       "    </tr>\n",
       "  </tbody>\n",
       "</table>"
      ],
      "text/plain": [
       "<IPython.core.display.HTML object>"
      ]
     },
     "metadata": {},
     "output_type": "display_data"
    },
    {
     "name": "stdout",
     "output_type": "stream",
     "text": [
      "Best parameters:\n",
      "{'lr': 0.012917521684392056, 'n_neg_per_pos': 9.0, 'weight_decay': 0.0004880694352535569}\n"
     ]
    }
   ],
   "source": [
    "param_space = {\n",
    "    'model_name': 'GMF',\n",
    "    'optimizer_name': 'Adam',\n",
    "    'n_epochs': 15,\n",
    "    'embedding_dim': 16,\n",
    "    'hidden_dim': 16,\n",
    "    'batch_size': 128,\n",
    "    'train': True,\n",
    "    #\n",
    "    'n_neg_per_pos': hp.quniform('n_neg_per_pos', 1, 10, 1),\n",
    "    'lr': hp.loguniform('lr', np.log(0.001), np.log(0.1)),\n",
    "    'weight_decay': hp.loguniform('weight_decay', np.log(0.000001), 1)\n",
    "}\n",
    "\n",
    "best_param_set = tune_recommender(NNRecommender, interactions_df, items_df, param_space, max_evals=10, show_progressbar=True, seed=seed)\n",
    "\n",
    "print(\"Best parameters:\")\n",
    "print(best_param_set)"
   ]
  },
  {
   "cell_type": "markdown",
   "id": "b2441286",
   "metadata": {},
   "source": [
    "### SGD optimizer params tunning"
   ]
  },
  {
   "cell_type": "code",
   "execution_count": 22,
   "id": "obvious-astrology",
   "metadata": {},
   "outputs": [
    {
     "data": {
      "image/png": "[encoded data removed]",
      "text/plain": [
       "<Figure size 864x576 with 2 Axes>"
      ]
     },
     "metadata": {
      "needs_background": "light"
     },
     "output_type": "display_data"
    },
    {
     "name": "stdout",
     "output_type": "stream",
     "text": [
      "Loss\n",
      "\tloss             \t (min:    0.027, max:    0.695, cur:    0.027)\n"
     ]
    },
    {
     "data": {
      "text/html": [
       "<table border=\"1\" class=\"dataframe\">\n",
       "  <thead>\n",
       "    <tr style=\"text-align: right;\">\n",
       "      <th></th>\n",
       "      <th>Recommender</th>\n",
       "      <th>HR@1</th>\n",
       "      <th>HR@3</th>\n",
       "      <th>HR@5</th>\n",
       "      <th>HR@10</th>\n",
       "      <th>NDCG@1</th>\n",
       "      <th>NDCG@3</th>\n",
       "      <th>NDCG@5</th>\n",
       "      <th>NDCG@10</th>\n",
       "    </tr>\n",
       "  </thead>\n",
       "  <tbody>\n",
       "    <tr>\n",
       "      <th>0</th>\n",
       "      <td>GMFRecommender</td>\n",
       "      <td>0.044128</td>\n",
       "      <td>0.120163</td>\n",
       "      <td>0.166667</td>\n",
       "      <td>0.229464</td>\n",
       "      <td>0.044128</td>\n",
       "      <td>0.087612</td>\n",
       "      <td>0.106896</td>\n",
       "      <td>0.126978</td>\n",
       "    </tr>\n",
       "  </tbody>\n",
       "</table>"
      ],
      "text/plain": [
       "<IPython.core.display.HTML object>"
      ]
     },
     "metadata": {},
     "output_type": "display_data"
    },
    {
     "name": "stdout",
     "output_type": "stream",
     "text": [
      "Best parameters:\n",
      "{'lr': 0.06531480975542919, 'n_neg_per_pos': 5.0, 'weight_decay': 0.2946748369198841}\n"
     ]
    }
   ],
   "source": [
    "param_space = {\n",
    "    'model_name': 'GMF',\n",
    "    'optimizer_name': 'SGD',\n",
    "    'n_epochs': 15,\n",
    "    'embedding_dim': 16,\n",
    "    'hidden_dim': 16,\n",
    "    'batch_size': 128,\n",
    "    'train': True,\n",
    "    #\n",
    "    'n_neg_per_pos': hp.quniform('n_neg_per_pos', 1, 10, 1),\n",
    "    'lr': hp.loguniform('lr', np.log(0.001), np.log(0.1)),\n",
    "    'weight_decay': hp.loguniform('weight_decay', np.log(0.000001), 1)\n",
    "}\n",
    "\n",
    "best_param_set = tune_recommender(NNRecommender, interactions_df, items_df, param_space, max_evals=10, show_progressbar=True, seed=seed)\n",
    "\n",
    "print(\"Best parameters:\")\n",
    "print(best_param_set)"
   ]
  },
  {
   "cell_type": "markdown",
   "id": "20f5dfec",
   "metadata": {},
   "source": [
    "### ASGD optimizer params tunning"
   ]
  },
  {
   "cell_type": "code",
   "execution_count": 23,
   "id": "4f0b78e6",
   "metadata": {},
   "outputs": [
    {
     "data": {
      "image/png": "[encoded data removed]",
      "text/plain": [
       "<Figure size 864x576 with 2 Axes>"
      ]
     },
     "metadata": {
      "needs_background": "light"
     },
     "output_type": "display_data"
    },
    {
     "name": "stdout",
     "output_type": "stream",
     "text": [
      "Loss\n",
      "\tloss             \t (min:    0.014, max:    0.695, cur:    0.014)\n"
     ]
    },
    {
     "data": {
      "text/html": [
       "<table border=\"1\" class=\"dataframe\">\n",
       "  <thead>\n",
       "    <tr style=\"text-align: right;\">\n",
       "      <th></th>\n",
       "      <th>Recommender</th>\n",
       "      <th>HR@1</th>\n",
       "      <th>HR@3</th>\n",
       "      <th>HR@5</th>\n",
       "      <th>HR@10</th>\n",
       "      <th>NDCG@1</th>\n",
       "      <th>NDCG@3</th>\n",
       "      <th>NDCG@5</th>\n",
       "      <th>NDCG@10</th>\n",
       "    </tr>\n",
       "  </thead>\n",
       "  <tbody>\n",
       "    <tr>\n",
       "      <th>0</th>\n",
       "      <td>GMFRecommender</td>\n",
       "      <td>0.044807</td>\n",
       "      <td>0.123218</td>\n",
       "      <td>0.165988</td>\n",
       "      <td>0.234895</td>\n",
       "      <td>0.044807</td>\n",
       "      <td>0.089657</td>\n",
       "      <td>0.107511</td>\n",
       "      <td>0.129744</td>\n",
       "    </tr>\n",
       "  </tbody>\n",
       "</table>"
      ],
      "text/plain": [
       "<IPython.core.display.HTML object>"
      ]
     },
     "metadata": {},
     "output_type": "display_data"
    },
    {
     "name": "stdout",
     "output_type": "stream",
     "text": [
      "Best parameters:\n",
      "{'lr': 0.003667314979653311, 'n_neg_per_pos': 9.0, 'weight_decay': 2.108374768977645e-06}\n"
     ]
    }
   ],
   "source": [
    "param_space = {\n",
    "    'model_name': 'GMF',\n",
    "    'optimizer_name': 'ASGD',\n",
    "    'n_epochs': 15,\n",
    "    'embedding_dim': 16,\n",
    "    'hidden_dim': 16,\n",
    "    'batch_size': 128,\n",
    "    'train': True,\n",
    "    #\n",
    "    'n_neg_per_pos': hp.quniform('n_neg_per_pos', 1, 10, 1),\n",
    "    'lr': hp.loguniform('lr', np.log(0.001), np.log(0.1)),\n",
    "    'weight_decay': hp.loguniform('weight_decay', np.log(0.000001), 1)\n",
    "}\n",
    "\n",
    "best_param_set = tune_recommender(NNRecommender, interactions_df, items_df, param_space, max_evals=10, show_progressbar=True, seed=seed)\n",
    "\n",
    "print(\"Best parameters:\")\n",
    "print(best_param_set)"
   ]
  },
  {
   "cell_type": "markdown",
   "id": "2255ddd2",
   "metadata": {},
   "source": [
    "## MLPRecommender"
   ]
  },
  {
   "cell_type": "markdown",
   "id": "47c5cbf5",
   "metadata": {},
   "source": [
    "### Adam optimizer params tunning"
   ]
  },
  {
   "cell_type": "code",
   "execution_count": 24,
   "id": "2a00f8ba",
   "metadata": {},
   "outputs": [
    {
     "data": {
      "image/png": "[encoded data removed]",
      "text/plain": [
       "<Figure size 864x576 with 2 Axes>"
      ]
     },
     "metadata": {
      "needs_background": "light"
     },
     "output_type": "display_data"
    },
    {
     "name": "stdout",
     "output_type": "stream",
     "text": [
      "Loss\n",
      "\tloss             \t (min:    0.042, max:    0.695, cur:    0.042)\n"
     ]
    },
    {
     "data": {
      "text/html": [
       "<table border=\"1\" class=\"dataframe\">\n",
       "  <thead>\n",
       "    <tr style=\"text-align: right;\">\n",
       "      <th></th>\n",
       "      <th>Recommender</th>\n",
       "      <th>HR@1</th>\n",
       "      <th>HR@3</th>\n",
       "      <th>HR@5</th>\n",
       "      <th>HR@10</th>\n",
       "      <th>NDCG@1</th>\n",
       "      <th>NDCG@3</th>\n",
       "      <th>NDCG@5</th>\n",
       "      <th>NDCG@10</th>\n",
       "    </tr>\n",
       "  </thead>\n",
       "  <tbody>\n",
       "    <tr>\n",
       "      <th>0</th>\n",
       "      <td>MLPRecommender</td>\n",
       "      <td>0.044467</td>\n",
       "      <td>0.120163</td>\n",
       "      <td>0.162933</td>\n",
       "      <td>0.225051</td>\n",
       "      <td>0.044467</td>\n",
       "      <td>0.087648</td>\n",
       "      <td>0.105518</td>\n",
       "      <td>0.125328</td>\n",
       "    </tr>\n",
       "  </tbody>\n",
       "</table>"
      ],
      "text/plain": [
       "<IPython.core.display.HTML object>"
      ]
     },
     "metadata": {},
     "output_type": "display_data"
    },
    {
     "name": "stdout",
     "output_type": "stream",
     "text": [
      "Best parameters:\n",
      "{'lr': 0.0030235236934055103, 'n_neg_per_pos': 5.0, 'weight_decay': 1.1557039690286527e-06}\n"
     ]
    }
   ],
   "source": [
    "param_space = {\n",
    "    'model_name': 'MLP',\n",
    "    'optimizer_name': 'Adam',\n",
    "    'n_epochs': 15,\n",
    "    'embedding_dim': 16,\n",
    "    'hidden_dim': 16,\n",
    "    'batch_size': 128,\n",
    "    'train': True,\n",
    "    #\n",
    "    'n_neg_per_pos': hp.quniform('n_neg_per_pos', 1, 10, 1),\n",
    "    'lr': hp.loguniform('lr', np.log(0.001), np.log(0.1)),\n",
    "    'weight_decay': hp.loguniform('weight_decay', np.log(0.000001), 1)\n",
    "}\n",
    "\n",
    "best_param_set = tune_recommender(NNRecommender, interactions_df, items_df, param_space, max_evals=10, show_progressbar=True, seed=seed)\n",
    "\n",
    "print(\"Best parameters:\")\n",
    "print(best_param_set)"
   ]
  },
  {
   "cell_type": "markdown",
   "id": "5c655e20",
   "metadata": {},
   "source": [
    "### SGD optimizer params tunning"
   ]
  },
  {
   "cell_type": "code",
   "execution_count": 25,
   "id": "cbfd698c",
   "metadata": {},
   "outputs": [
    {
     "data": {
      "image/png": "[encoded data removed]",
      "text/plain": [
       "<Figure size 864x576 with 2 Axes>"
      ]
     },
     "metadata": {
      "needs_background": "light"
     },
     "output_type": "display_data"
    },
    {
     "name": "stdout",
     "output_type": "stream",
     "text": [
      "Loss\n",
      "\tloss             \t (min:    0.036, max:    0.695, cur:    0.036)\n"
     ]
    },
    {
     "data": {
      "text/html": [
       "<table border=\"1\" class=\"dataframe\">\n",
       "  <thead>\n",
       "    <tr style=\"text-align: right;\">\n",
       "      <th></th>\n",
       "      <th>Recommender</th>\n",
       "      <th>HR@1</th>\n",
       "      <th>HR@3</th>\n",
       "      <th>HR@5</th>\n",
       "      <th>HR@10</th>\n",
       "      <th>NDCG@1</th>\n",
       "      <th>NDCG@3</th>\n",
       "      <th>NDCG@5</th>\n",
       "      <th>NDCG@10</th>\n",
       "    </tr>\n",
       "  </thead>\n",
       "  <tbody>\n",
       "    <tr>\n",
       "      <th>0</th>\n",
       "      <td>MLPRecommender</td>\n",
       "      <td>0.044128</td>\n",
       "      <td>0.118805</td>\n",
       "      <td>0.16463</td>\n",
       "      <td>0.223014</td>\n",
       "      <td>0.044128</td>\n",
       "      <td>0.086755</td>\n",
       "      <td>0.105792</td>\n",
       "      <td>0.124544</td>\n",
       "    </tr>\n",
       "  </tbody>\n",
       "</table>"
      ],
      "text/plain": [
       "<IPython.core.display.HTML object>"
      ]
     },
     "metadata": {},
     "output_type": "display_data"
    },
    {
     "name": "stdout",
     "output_type": "stream",
     "text": [
      "Best parameters:\n",
      "{'lr': 0.0011111217679204484, 'n_neg_per_pos': 5.0, 'weight_decay': 0.4723768051577314}\n"
     ]
    }
   ],
   "source": [
    "param_space = {\n",
    "    'model_name': 'MLP',\n",
    "    'optimizer_name': 'SGD',\n",
    "    'n_epochs': 15,\n",
    "    'embedding_dim': 16,\n",
    "    'hidden_dim': 16,\n",
    "    'batch_size': 128,\n",
    "    'train': True,\n",
    "    #\n",
    "    'n_neg_per_pos': hp.quniform('n_neg_per_pos', 1, 10, 1),\n",
    "    'lr': hp.loguniform('lr', np.log(0.001), np.log(0.1)),\n",
    "    'weight_decay': hp.loguniform('weight_decay', np.log(0.000001), 1)\n",
    "}\n",
    "\n",
    "best_param_set = tune_recommender(NNRecommender, interactions_df, items_df, param_space, max_evals=10, show_progressbar=True, seed=seed)\n",
    "\n",
    "print(\"Best parameters:\")\n",
    "print(best_param_set)"
   ]
  },
  {
   "cell_type": "markdown",
   "id": "3b60215c",
   "metadata": {},
   "source": [
    "### ASGD optimizer params tunning"
   ]
  },
  {
   "cell_type": "code",
   "execution_count": 26,
   "id": "81c7e01b",
   "metadata": {},
   "outputs": [
    {
     "data": {
      "image/png": "[encoded data removed]",
      "text/plain": [
       "<Figure size 864x576 with 2 Axes>"
      ]
     },
     "metadata": {
      "needs_background": "light"
     },
     "output_type": "display_data"
    },
    {
     "name": "stdout",
     "output_type": "stream",
     "text": [
      "Loss\n",
      "\tloss             \t (min:    0.011, max:    0.695, cur:    0.011)\n"
     ]
    },
    {
     "data": {
      "text/html": [
       "<table border=\"1\" class=\"dataframe\">\n",
       "  <thead>\n",
       "    <tr style=\"text-align: right;\">\n",
       "      <th></th>\n",
       "      <th>Recommender</th>\n",
       "      <th>HR@1</th>\n",
       "      <th>HR@3</th>\n",
       "      <th>HR@5</th>\n",
       "      <th>HR@10</th>\n",
       "      <th>NDCG@1</th>\n",
       "      <th>NDCG@3</th>\n",
       "      <th>NDCG@5</th>\n",
       "      <th>NDCG@10</th>\n",
       "    </tr>\n",
       "  </thead>\n",
       "  <tbody>\n",
       "    <tr>\n",
       "      <th>0</th>\n",
       "      <td>MLPRecommender</td>\n",
       "      <td>0.044467</td>\n",
       "      <td>0.122878</td>\n",
       "      <td>0.167346</td>\n",
       "      <td>0.228445</td>\n",
       "      <td>0.044467</td>\n",
       "      <td>0.089228</td>\n",
       "      <td>0.107769</td>\n",
       "      <td>0.127531</td>\n",
       "    </tr>\n",
       "  </tbody>\n",
       "</table>"
      ],
      "text/plain": [
       "<IPython.core.display.HTML object>"
      ]
     },
     "metadata": {},
     "output_type": "display_data"
    },
    {
     "name": "stdout",
     "output_type": "stream",
     "text": [
      "Best parameters:\n",
      "{'lr': 0.012718672704293102, 'n_neg_per_pos': 9.0, 'weight_decay': 0.09871958775506479}\n"
     ]
    }
   ],
   "source": [
    "param_space = {\n",
    "    'model_name': 'MLP',\n",
    "    'optimizer_name': 'ASGD',\n",
    "    'n_epochs': 15,\n",
    "    'embedding_dim': 16,\n",
    "    'hidden_dim': 16,\n",
    "    'batch_size': 128,\n",
    "    'train': True,\n",
    "    #\n",
    "    'n_neg_per_pos': hp.quniform('n_neg_per_pos', 1, 10, 1),\n",
    "    'lr': hp.loguniform('lr', np.log(0.001), np.log(0.1)),\n",
    "    'weight_decay': hp.loguniform('weight_decay', np.log(0.000001), 1)\n",
    "}\n",
    "\n",
    "best_param_set = tune_recommender(NNRecommender, interactions_df, items_df, param_space, max_evals=10, show_progressbar=True, seed=seed)\n",
    "\n",
    "print(\"Best parameters:\")\n",
    "print(best_param_set)"
   ]
  },
  {
   "cell_type": "markdown",
   "id": "5a7964dd",
   "metadata": {},
   "source": [
    "## NeuMFRecommender"
   ]
  },
  {
   "cell_type": "markdown",
   "id": "ce48d3d3",
   "metadata": {},
   "source": [
    "### Adam optimizer params tunning"
   ]
  },
  {
   "cell_type": "code",
   "execution_count": 27,
   "id": "12eb1f5f",
   "metadata": {},
   "outputs": [
    {
     "data": {
      "image/png": "[encoded data removed]",
      "text/plain": [
       "<Figure size 864x576 with 2 Axes>"
      ]
     },
     "metadata": {
      "needs_background": "light"
     },
     "output_type": "display_data"
    },
    {
     "name": "stdout",
     "output_type": "stream",
     "text": [
      "Loss\n",
      "\tloss             \t (min:    0.014, max:    0.695, cur:    0.014)\n"
     ]
    },
    {
     "data": {
      "text/html": [
       "<table border=\"1\" class=\"dataframe\">\n",
       "  <thead>\n",
       "    <tr style=\"text-align: right;\">\n",
       "      <th></th>\n",
       "      <th>Recommender</th>\n",
       "      <th>HR@1</th>\n",
       "      <th>HR@3</th>\n",
       "      <th>HR@5</th>\n",
       "      <th>HR@10</th>\n",
       "      <th>NDCG@1</th>\n",
       "      <th>NDCG@3</th>\n",
       "      <th>NDCG@5</th>\n",
       "      <th>NDCG@10</th>\n",
       "    </tr>\n",
       "  </thead>\n",
       "  <tbody>\n",
       "    <tr>\n",
       "      <th>0</th>\n",
       "      <td>NeuMFRecommender</td>\n",
       "      <td>0.044467</td>\n",
       "      <td>0.120842</td>\n",
       "      <td>0.164969</td>\n",
       "      <td>0.230482</td>\n",
       "      <td>0.044467</td>\n",
       "      <td>0.088032</td>\n",
       "      <td>0.106472</td>\n",
       "      <td>0.127464</td>\n",
       "    </tr>\n",
       "  </tbody>\n",
       "</table>"
      ],
      "text/plain": [
       "<IPython.core.display.HTML object>"
      ]
     },
     "metadata": {},
     "output_type": "display_data"
    },
    {
     "name": "stdout",
     "output_type": "stream",
     "text": [
      "Best parameters:\n",
      "{'lr': 0.003380903379083977, 'n_neg_per_pos': 6.0, 'weight_decay': 0.00030620763243595573}\n"
     ]
    }
   ],
   "source": [
    "param_space = {\n",
    "    'model_name': 'NeuMF',\n",
    "    'optimizer_name': 'Adam',\n",
    "    'n_epochs': 15,\n",
    "    'embedding_dim': 16,\n",
    "    'hidden_dim': 16,\n",
    "    'batch_size': 128,\n",
    "    'train': True,\n",
    "    #\n",
    "    'n_neg_per_pos': hp.quniform('n_neg_per_pos', 1, 10, 1),\n",
    "    'lr': hp.loguniform('lr', np.log(0.001), np.log(0.1)),\n",
    "    'weight_decay': hp.loguniform('weight_decay', np.log(0.000001), 1)\n",
    "}\n",
    "\n",
    "best_param_set = tune_recommender(NNRecommender, interactions_df, items_df, param_space, max_evals=10, show_progressbar=True, seed=seed)\n",
    "\n",
    "print(\"Best parameters:\")\n",
    "print(best_param_set)"
   ]
  },
  {
   "cell_type": "markdown",
   "id": "56b8452a",
   "metadata": {},
   "source": [
    "### SGD optimizer params tunning"
   ]
  },
  {
   "cell_type": "code",
   "execution_count": 28,
   "id": "a123bb0b",
   "metadata": {},
   "outputs": [
    {
     "data": {
      "image/png": "[encoded data removed]",
      "text/plain": [
       "<Figure size 864x576 with 2 Axes>"
      ]
     },
     "metadata": {
      "needs_background": "light"
     },
     "output_type": "display_data"
    },
    {
     "name": "stdout",
     "output_type": "stream",
     "text": [
      "Loss\n",
      "\tloss             \t (min:    0.008, max:    0.695, cur:    0.008)\n"
     ]
    },
    {
     "data": {
      "text/html": [
       "<table border=\"1\" class=\"dataframe\">\n",
       "  <thead>\n",
       "    <tr style=\"text-align: right;\">\n",
       "      <th></th>\n",
       "      <th>Recommender</th>\n",
       "      <th>HR@1</th>\n",
       "      <th>HR@3</th>\n",
       "      <th>HR@5</th>\n",
       "      <th>HR@10</th>\n",
       "      <th>NDCG@1</th>\n",
       "      <th>NDCG@3</th>\n",
       "      <th>NDCG@5</th>\n",
       "      <th>NDCG@10</th>\n",
       "    </tr>\n",
       "  </thead>\n",
       "  <tbody>\n",
       "    <tr>\n",
       "      <th>0</th>\n",
       "      <td>NeuMFRecommender</td>\n",
       "      <td>0.043788</td>\n",
       "      <td>0.119484</td>\n",
       "      <td>0.161914</td>\n",
       "      <td>0.223354</td>\n",
       "      <td>0.043788</td>\n",
       "      <td>0.087014</td>\n",
       "      <td>0.104752</td>\n",
       "      <td>0.124473</td>\n",
       "    </tr>\n",
       "  </tbody>\n",
       "</table>"
      ],
      "text/plain": [
       "<IPython.core.display.HTML object>"
      ]
     },
     "metadata": {},
     "output_type": "display_data"
    },
    {
     "name": "stdout",
     "output_type": "stream",
     "text": [
      "Best parameters:\n",
      "{'lr': 0.0028756423085441627, 'n_neg_per_pos': 3.0, 'weight_decay': 0.0007032144351924933}\n"
     ]
    }
   ],
   "source": [
    "param_space = {\n",
    "    'model_name': 'NeuMF',\n",
    "    'optimizer_name': 'SGD',\n",
    "    'n_epochs': 15,\n",
    "    'embedding_dim': 16,\n",
    "    'hidden_dim': 16,\n",
    "    'batch_size': 128,\n",
    "    'train': True,\n",
    "    #\n",
    "    'n_neg_per_pos': hp.quniform('n_neg_per_pos', 1, 10, 1),\n",
    "    'lr': hp.loguniform('lr', np.log(0.001), np.log(0.1)),\n",
    "    'weight_decay': hp.loguniform('weight_decay', np.log(0.000001), 1)\n",
    "}\n",
    "\n",
    "best_param_set = tune_recommender(NNRecommender, interactions_df, items_df, param_space, max_evals=10, show_progressbar=True, seed=seed)\n",
    "\n",
    "print(\"Best parameters:\")\n",
    "print(best_param_set)"
   ]
  },
  {
   "cell_type": "markdown",
   "id": "1f878c16",
   "metadata": {},
   "source": [
    "### ASGD optimizer params tunning"
   ]
  },
  {
   "cell_type": "code",
   "execution_count": 29,
   "id": "16eb073b",
   "metadata": {},
   "outputs": [
    {
     "data": {
      "image/png": "[encoded data removed]",
      "text/plain": [
       "<Figure size 864x576 with 2 Axes>"
      ]
     },
     "metadata": {
      "needs_background": "light"
     },
     "output_type": "display_data"
    },
    {
     "name": "stdout",
     "output_type": "stream",
     "text": [
      "Loss\n",
      "\tloss             \t (min:    0.024, max:    0.695, cur:    0.024)\n"
     ]
    },
    {
     "data": {
      "text/html": [
       "<table border=\"1\" class=\"dataframe\">\n",
       "  <thead>\n",
       "    <tr style=\"text-align: right;\">\n",
       "      <th></th>\n",
       "      <th>Recommender</th>\n",
       "      <th>HR@1</th>\n",
       "      <th>HR@3</th>\n",
       "      <th>HR@5</th>\n",
       "      <th>HR@10</th>\n",
       "      <th>NDCG@1</th>\n",
       "      <th>NDCG@3</th>\n",
       "      <th>NDCG@5</th>\n",
       "      <th>NDCG@10</th>\n",
       "    </tr>\n",
       "  </thead>\n",
       "  <tbody>\n",
       "    <tr>\n",
       "      <th>0</th>\n",
       "      <td>NeuMFRecommender</td>\n",
       "      <td>0.044128</td>\n",
       "      <td>0.119145</td>\n",
       "      <td>0.161575</td>\n",
       "      <td>0.224372</td>\n",
       "      <td>0.044128</td>\n",
       "      <td>0.086969</td>\n",
       "      <td>0.104693</td>\n",
       "      <td>0.124792</td>\n",
       "    </tr>\n",
       "  </tbody>\n",
       "</table>"
      ],
      "text/plain": [
       "<IPython.core.display.HTML object>"
      ]
     },
     "metadata": {},
     "output_type": "display_data"
    },
    {
     "name": "stdout",
     "output_type": "stream",
     "text": [
      "Best parameters:\n",
      "{'lr': 0.0011519271766241772, 'n_neg_per_pos': 5.0, 'weight_decay': 2.4598198962718836e-05}\n"
     ]
    }
   ],
   "source": [
    "param_space = {\n",
    "    'model_name': 'NeuMF',\n",
    "    'optimizer_name': 'ASGD',\n",
    "    'n_epochs': 15,\n",
    "    'embedding_dim': 16,\n",
    "    'hidden_dim': 16,\n",
    "    'batch_size': 128,\n",
    "    'train': True,\n",
    "    #\n",
    "    'n_neg_per_pos': hp.quniform('n_neg_per_pos', 1, 10, 1),\n",
    "    'lr': hp.loguniform('lr', np.log(0.001), np.log(0.1)),\n",
    "    'weight_decay': hp.loguniform('weight_decay', np.log(0.000001), 1)\n",
    "}\n",
    "\n",
    "best_param_set = tune_recommender(NNRecommender, interactions_df, items_df, param_space, max_evals=10, show_progressbar=True, seed=seed)\n",
    "\n",
    "print(\"Best parameters:\")\n",
    "print(best_param_set)"
   ]
  },
  {
   "cell_type": "markdown",
   "id": "accredited-strap",
   "metadata": {},
   "source": [
    "# Final evaluation\n",
    "\n",
    "<span style=\"color:red\"><font size=\"4\">**Task:**</font></span><br> \n",
    "Run the final evaluation of your recommender and present its results against the Amazon and Netflix recommenders' results. You just need to give the class name of your recommender and its tuned parameters below.\n",
    "\n",
    "It's optional, but for better effect you can include here the results from all recommenders created during in this class."
   ]
  },
  {
   "cell_type": "markdown",
   "id": "7800a15d",
   "metadata": {},
   "source": [
    "## GMFRecommender"
   ]
  },
  {
   "cell_type": "markdown",
   "id": "72b059bd",
   "metadata": {},
   "source": [
    "### Adam Optimizer"
   ]
  },
  {
   "cell_type": "code",
   "execution_count": 32,
   "id": "given-homework",
   "metadata": {},
   "outputs": [
    {
     "data": {
      "image/png": "[encoded data removed]",
      "text/plain": [
       "<Figure size 864x576 with 2 Axes>"
      ]
     },
     "metadata": {
      "needs_background": "light"
     },
     "output_type": "display_data"
    },
    {
     "name": "stdout",
     "output_type": "stream",
     "text": [
      "Loss\n",
      "\tloss             \t (min:    0.000, max:    0.695, cur:    0.000)\n"
     ]
    },
    {
     "data": {
      "text/html": [
       "<table border=\"1\" class=\"dataframe\">\n",
       "  <thead>\n",
       "    <tr style=\"text-align: right;\">\n",
       "      <th></th>\n",
       "      <th>Recommender</th>\n",
       "      <th>HR@1</th>\n",
       "      <th>HR@3</th>\n",
       "      <th>HR@5</th>\n",
       "      <th>HR@10</th>\n",
       "      <th>NDCG@1</th>\n",
       "      <th>NDCG@3</th>\n",
       "      <th>NDCG@5</th>\n",
       "      <th>NDCG@10</th>\n",
       "    </tr>\n",
       "  </thead>\n",
       "  <tbody>\n",
       "    <tr>\n",
       "      <th>0</th>\n",
       "      <td>GMFRecommenderWithAdamOptimizer</td>\n",
       "      <td>0.046504</td>\n",
       "      <td>0.123897</td>\n",
       "      <td>0.166327</td>\n",
       "      <td>0.234895</td>\n",
       "      <td>0.046504</td>\n",
       "      <td>0.0908</td>\n",
       "      <td>0.108524</td>\n",
       "      <td>0.130622</td>\n",
       "    </tr>\n",
       "  </tbody>\n",
       "</table>"
      ],
      "text/plain": [
       "<IPython.core.display.HTML object>"
      ]
     },
     "metadata": {},
     "output_type": "display_data"
    }
   ],
   "source": [
    "params = {\n",
    "    'model_name': 'GMF',\n",
    "    'optimizer_name': 'Adam',\n",
    "    'train': False,\n",
    "    #\n",
    "    'n_epochs': 15,\n",
    "    'embedding_dim': 16,\n",
    "    'hidden_dim': 16,\n",
    "    'batch_size': 128,\n",
    "    #\n",
    "    'lr': 0.012917521684392056, \n",
    "    'n_neg_per_pos': 9.0, \n",
    "    'weight_decay': 0.0004880694352535569\n",
    "}\n",
    "\n",
    "gmf_adam_recommender = NNRecommender(**params)\n",
    "gmf_adam_tts_results = [['GMFRecommenderWithAdamOptimizer'] + list(evaluate_train_test_split_implicit(gmf_adam_recommender, interactions_df, items_df))]\n",
    "gmf_adam_tts_results = pd.DataFrame(gmf_adam_tts_results, columns=['Recommender', 'HR@1', 'HR@3', 'HR@5', 'HR@10', 'NDCG@1', 'NDCG@3', 'NDCG@5', 'NDCG@10'])\n",
    "\n",
    "display(HTML(gmf_adam_tts_results.to_html()))"
   ]
  },
  {
   "cell_type": "markdown",
   "id": "efb7e5e8",
   "metadata": {},
   "source": [
    "### SGD Optimizer"
   ]
  },
  {
   "cell_type": "code",
   "execution_count": 33,
   "id": "7146bb33",
   "metadata": {},
   "outputs": [
    {
     "data": {
      "image/png": "[encoded data removed]",
      "text/plain": [
       "<Figure size 864x576 with 2 Axes>"
      ]
     },
     "metadata": {
      "needs_background": "light"
     },
     "output_type": "display_data"
    },
    {
     "name": "stdout",
     "output_type": "stream",
     "text": [
      "Loss\n",
      "\tloss             \t (min:    0.704, max:    0.706, cur:    0.704)\n"
     ]
    },
    {
     "data": {
      "text/html": [
       "<table border=\"1\" class=\"dataframe\">\n",
       "  <thead>\n",
       "    <tr style=\"text-align: right;\">\n",
       "      <th></th>\n",
       "      <th>Recommender</th>\n",
       "      <th>HR@1</th>\n",
       "      <th>HR@3</th>\n",
       "      <th>HR@5</th>\n",
       "      <th>HR@10</th>\n",
       "      <th>NDCG@1</th>\n",
       "      <th>NDCG@3</th>\n",
       "      <th>NDCG@5</th>\n",
       "      <th>NDCG@10</th>\n",
       "    </tr>\n",
       "  </thead>\n",
       "  <tbody>\n",
       "    <tr>\n",
       "      <th>0</th>\n",
       "      <td>GMFRecommenderWithSGDOptimizer</td>\n",
       "      <td>0.043788</td>\n",
       "      <td>0.118126</td>\n",
       "      <td>0.163612</td>\n",
       "      <td>0.220299</td>\n",
       "      <td>0.043788</td>\n",
       "      <td>0.086246</td>\n",
       "      <td>0.105136</td>\n",
       "      <td>0.123396</td>\n",
       "    </tr>\n",
       "  </tbody>\n",
       "</table>"
      ],
      "text/plain": [
       "<IPython.core.display.HTML object>"
      ]
     },
     "metadata": {},
     "output_type": "display_data"
    }
   ],
   "source": [
    "params = {\n",
    "    'model_name': 'GMF',\n",
    "    'optimizer_name': 'SGD',\n",
    "    'train': False,\n",
    "    #\n",
    "    'n_epochs': 15,\n",
    "    'embedding_dim': 16,\n",
    "    'hidden_dim': 16,\n",
    "    'batch_size': 128,\n",
    "    #\n",
    "    'lr': 0.06531480975542919, \n",
    "    'n_neg_per_pos': 5.0, \n",
    "    'weight_decay': 0.2946748369198841\n",
    "}\n",
    "\n",
    "gmf_sgd_recommender = NNRecommender(**params)\n",
    "gmf_sgd_tts_results = [['GMFRecommenderWithSGDOptimizer'] + list(evaluate_train_test_split_implicit(gmf_sgd_recommender, interactions_df, items_df))]\n",
    "gmf_sgd_tts_results = pd.DataFrame(gmf_sgd_tts_results, columns=['Recommender', 'HR@1', 'HR@3', 'HR@5', 'HR@10', 'NDCG@1', 'NDCG@3', 'NDCG@5', 'NDCG@10'])\n",
    "\n",
    "display(HTML(gmf_sgd_tts_results.to_html()))"
   ]
  },
  {
   "cell_type": "markdown",
   "id": "e002d906",
   "metadata": {},
   "source": [
    "### ASGD Optimizer"
   ]
  },
  {
   "cell_type": "code",
   "execution_count": 34,
   "id": "0d88c725",
   "metadata": {},
   "outputs": [
    {
     "data": {
      "image/png": "[encoded data removed]",
      "text/plain": [
       "<Figure size 864x576 with 2 Axes>"
      ]
     },
     "metadata": {
      "needs_background": "light"
     },
     "output_type": "display_data"
    },
    {
     "name": "stdout",
     "output_type": "stream",
     "text": [
      "Loss\n",
      "\tloss             \t (min:    0.703, max:    0.706, cur:    0.703)\n"
     ]
    },
    {
     "data": {
      "text/html": [
       "<table border=\"1\" class=\"dataframe\">\n",
       "  <thead>\n",
       "    <tr style=\"text-align: right;\">\n",
       "      <th></th>\n",
       "      <th>Recommender</th>\n",
       "      <th>HR@1</th>\n",
       "      <th>HR@3</th>\n",
       "      <th>HR@5</th>\n",
       "      <th>HR@10</th>\n",
       "      <th>NDCG@1</th>\n",
       "      <th>NDCG@3</th>\n",
       "      <th>NDCG@5</th>\n",
       "      <th>NDCG@10</th>\n",
       "    </tr>\n",
       "  </thead>\n",
       "  <tbody>\n",
       "    <tr>\n",
       "      <th>0</th>\n",
       "      <td>GMFRecommenderWithASGDOptimizer</td>\n",
       "      <td>0.043788</td>\n",
       "      <td>0.118466</td>\n",
       "      <td>0.163612</td>\n",
       "      <td>0.220638</td>\n",
       "      <td>0.043788</td>\n",
       "      <td>0.08646</td>\n",
       "      <td>0.105219</td>\n",
       "      <td>0.123304</td>\n",
       "    </tr>\n",
       "  </tbody>\n",
       "</table>"
      ],
      "text/plain": [
       "<IPython.core.display.HTML object>"
      ]
     },
     "metadata": {},
     "output_type": "display_data"
    }
   ],
   "source": [
    "params = {\n",
    "    'model_name': 'GMF',\n",
    "    'optimizer_name': 'ASGD',\n",
    "    'train': False,\n",
    "    #\n",
    "    'n_epochs': 15,\n",
    "    'embedding_dim': 16,\n",
    "    'hidden_dim': 16,\n",
    "    'batch_size': 128,\n",
    "    #\n",
    "    'lr': 0.003667314979653311, \n",
    "    'n_neg_per_pos': 9.0, \n",
    "    'weight_decay': 2.108374768977645e-06\n",
    "}\n",
    "\n",
    "gmf_asgd_recommender = NNRecommender(**params)\n",
    "gmf_asgd_tts_results = [['GMFRecommenderWithASGDOptimizer'] + list(evaluate_train_test_split_implicit(gmf_asgd_recommender, interactions_df, items_df))]\n",
    "gmf_asgd_tts_results = pd.DataFrame(gmf_asgd_tts_results, columns=['Recommender', 'HR@1', 'HR@3', 'HR@5', 'HR@10', 'NDCG@1', 'NDCG@3', 'NDCG@5', 'NDCG@10'])\n",
    "\n",
    "display(HTML(gmf_asgd_tts_results.to_html()))"
   ]
  },
  {
   "cell_type": "markdown",
   "id": "db82c7f2",
   "metadata": {},
   "source": [
    "## MLP Recommender"
   ]
  },
  {
   "cell_type": "markdown",
   "id": "22f51405",
   "metadata": {},
   "source": [
    "### Adam Optimizer"
   ]
  },
  {
   "cell_type": "code",
   "execution_count": 35,
   "id": "532f79fa",
   "metadata": {},
   "outputs": [
    {
     "data": {
      "image/png": "[encoded data removed]",
      "text/plain": [
       "<Figure size 864x576 with 2 Axes>"
      ]
     },
     "metadata": {
      "needs_background": "light"
     },
     "output_type": "display_data"
    },
    {
     "name": "stdout",
     "output_type": "stream",
     "text": [
      "Loss\n",
      "\tloss             \t (min:    0.021, max:    0.352, cur:    0.021)\n"
     ]
    },
    {
     "data": {
      "text/html": [
       "<table border=\"1\" class=\"dataframe\">\n",
       "  <thead>\n",
       "    <tr style=\"text-align: right;\">\n",
       "      <th></th>\n",
       "      <th>Recommender</th>\n",
       "      <th>HR@1</th>\n",
       "      <th>HR@3</th>\n",
       "      <th>HR@5</th>\n",
       "      <th>HR@10</th>\n",
       "      <th>NDCG@1</th>\n",
       "      <th>NDCG@3</th>\n",
       "      <th>NDCG@5</th>\n",
       "      <th>NDCG@10</th>\n",
       "    </tr>\n",
       "  </thead>\n",
       "  <tbody>\n",
       "    <tr>\n",
       "      <th>0</th>\n",
       "      <td>MLPRecommenderWithAdamOptimizer</td>\n",
       "      <td>0.046504</td>\n",
       "      <td>0.124576</td>\n",
       "      <td>0.168024</td>\n",
       "      <td>0.23184</td>\n",
       "      <td>0.046504</td>\n",
       "      <td>0.09114</td>\n",
       "      <td>0.109272</td>\n",
       "      <td>0.129782</td>\n",
       "    </tr>\n",
       "  </tbody>\n",
       "</table>"
      ],
      "text/plain": [
       "<IPython.core.display.HTML object>"
      ]
     },
     "metadata": {},
     "output_type": "display_data"
    }
   ],
   "source": [
    "params = {\n",
    "    'model_name': 'MLP',\n",
    "    'optimizer_name': 'Adam',\n",
    "    'train': False,\n",
    "    #\n",
    "    'n_epochs': 15,\n",
    "    'embedding_dim': 16,\n",
    "    'hidden_dim': 16,\n",
    "    'batch_size': 128,\n",
    "    #\n",
    "    'lr': 0.0030235236934055103, \n",
    "    'n_neg_per_pos': 5.0, \n",
    "    'weight_decay': 1.1557039690286527e-06\n",
    "}\n",
    "\n",
    "mlp_adam_recommender = NNRecommender(**params)\n",
    "mlp_adam_tts_results = [['MLPRecommenderWithAdamOptimizer'] + list(evaluate_train_test_split_implicit(mlp_adam_recommender, interactions_df, items_df))]\n",
    "mlp_adam_tts_results = pd.DataFrame(mlp_adam_tts_results, columns=['Recommender', 'HR@1', 'HR@3', 'HR@5', 'HR@10', 'NDCG@1', 'NDCG@3', 'NDCG@5', 'NDCG@10'])\n",
    "\n",
    "display(HTML(mlp_adam_tts_results.to_html()))"
   ]
  },
  {
   "cell_type": "markdown",
   "id": "cb19b159",
   "metadata": {},
   "source": [
    "### SGD Optimizer"
   ]
  },
  {
   "cell_type": "code",
   "execution_count": 36,
   "id": "044202cf",
   "metadata": {},
   "outputs": [
    {
     "data": {
      "image/png": "[encoded data removed]",
      "text/plain": [
       "<Figure size 864x576 with 2 Axes>"
      ]
     },
     "metadata": {
      "needs_background": "light"
     },
     "output_type": "display_data"
    },
    {
     "name": "stdout",
     "output_type": "stream",
     "text": [
      "Loss\n",
      "\tloss             \t (min:    0.317, max:    0.409, cur:    0.317)\n"
     ]
    },
    {
     "data": {
      "text/html": [
       "<table border=\"1\" class=\"dataframe\">\n",
       "  <thead>\n",
       "    <tr style=\"text-align: right;\">\n",
       "      <th></th>\n",
       "      <th>Recommender</th>\n",
       "      <th>HR@1</th>\n",
       "      <th>HR@3</th>\n",
       "      <th>HR@5</th>\n",
       "      <th>HR@10</th>\n",
       "      <th>NDCG@1</th>\n",
       "      <th>NDCG@3</th>\n",
       "      <th>NDCG@5</th>\n",
       "      <th>NDCG@10</th>\n",
       "    </tr>\n",
       "  </thead>\n",
       "  <tbody>\n",
       "    <tr>\n",
       "      <th>0</th>\n",
       "      <td>MLPRecommenderWithSGDOptimizer</td>\n",
       "      <td>0.047183</td>\n",
       "      <td>0.129328</td>\n",
       "      <td>0.174813</td>\n",
       "      <td>0.244399</td>\n",
       "      <td>0.047183</td>\n",
       "      <td>0.094033</td>\n",
       "      <td>0.113087</td>\n",
       "      <td>0.135149</td>\n",
       "    </tr>\n",
       "  </tbody>\n",
       "</table>"
      ],
      "text/plain": [
       "<IPython.core.display.HTML object>"
      ]
     },
     "metadata": {},
     "output_type": "display_data"
    }
   ],
   "source": [
    "params = {\n",
    "    'model_name': 'MLP',\n",
    "    'optimizer_name': 'SGD',\n",
    "    'train': False,\n",
    "    #\n",
    "    'n_epochs': 15,\n",
    "    'embedding_dim': 16,\n",
    "    'hidden_dim': 16,\n",
    "    'batch_size': 128,\n",
    "    #\n",
    "    'lr': 0.0011111217679204484, \n",
    "    'n_neg_per_pos': 5.0, \n",
    "    'weight_decay': 0.4723768051577314\n",
    "}\n",
    "\n",
    "mlp_sgd_recommender = NNRecommender(**params)\n",
    "mlp_sgd_tts_results = [['MLPRecommenderWithSGDOptimizer'] + list(evaluate_train_test_split_implicit(mlp_sgd_recommender, interactions_df, items_df))]\n",
    "mlp_sgd_tts_results = pd.DataFrame(mlp_sgd_tts_results, columns=['Recommender', 'HR@1', 'HR@3', 'HR@5', 'HR@10', 'NDCG@1', 'NDCG@3', 'NDCG@5', 'NDCG@10'])\n",
    "\n",
    "display(HTML(mlp_sgd_tts_results.to_html()))"
   ]
  },
  {
   "cell_type": "markdown",
   "id": "0f50865c",
   "metadata": {},
   "source": [
    "### ASGD Optimizer"
   ]
  },
  {
   "cell_type": "code",
   "execution_count": 37,
   "id": "db4f089a",
   "metadata": {},
   "outputs": [
    {
     "data": {
      "image/png": "[encoded data removed]",
      "text/plain": [
       "<Figure size 864x576 with 2 Axes>"
      ]
     },
     "metadata": {
      "needs_background": "light"
     },
     "output_type": "display_data"
    },
    {
     "name": "stdout",
     "output_type": "stream",
     "text": [
      "Loss\n",
      "\tloss             \t (min:    0.316, max:    0.405, cur:    0.316)\n"
     ]
    },
    {
     "data": {
      "text/html": [
       "<table border=\"1\" class=\"dataframe\">\n",
       "  <thead>\n",
       "    <tr style=\"text-align: right;\">\n",
       "      <th></th>\n",
       "      <th>Recommender</th>\n",
       "      <th>HR@1</th>\n",
       "      <th>HR@3</th>\n",
       "      <th>HR@5</th>\n",
       "      <th>HR@10</th>\n",
       "      <th>NDCG@1</th>\n",
       "      <th>NDCG@3</th>\n",
       "      <th>NDCG@5</th>\n",
       "      <th>NDCG@10</th>\n",
       "    </tr>\n",
       "  </thead>\n",
       "  <tbody>\n",
       "    <tr>\n",
       "      <th>0</th>\n",
       "      <td>MLPRecommenderWithASGDOptimizer</td>\n",
       "      <td>0.049219</td>\n",
       "      <td>0.129667</td>\n",
       "      <td>0.177529</td>\n",
       "      <td>0.245757</td>\n",
       "      <td>0.049219</td>\n",
       "      <td>0.095132</td>\n",
       "      <td>0.115046</td>\n",
       "      <td>0.136897</td>\n",
       "    </tr>\n",
       "  </tbody>\n",
       "</table>"
      ],
      "text/plain": [
       "<IPython.core.display.HTML object>"
      ]
     },
     "metadata": {},
     "output_type": "display_data"
    }
   ],
   "source": [
    "params = {\n",
    "    'model_name': 'MLP',\n",
    "    'optimizer_name': 'ASGD',\n",
    "    'train': False,\n",
    "    #\n",
    "    'n_epochs': 15,\n",
    "    'embedding_dim': 16,\n",
    "    'hidden_dim': 16,\n",
    "    'batch_size': 128,\n",
    "    #\n",
    "    'lr': 0.012718672704293102, \n",
    "    'n_neg_per_pos': 9.0, \n",
    "    'weight_decay': 0.09871958775506479\n",
    "}\n",
    "\n",
    "mlp_asgd_recommender = NNRecommender(**params)\n",
    "mlp_asgd_tts_results = [['MLPRecommenderWithASGDOptimizer'] + list(evaluate_train_test_split_implicit(mlp_sgd_recommender, interactions_df, items_df))]\n",
    "mlp_asgd_tts_results = pd.DataFrame(mlp_asgd_tts_results, columns=['Recommender', 'HR@1', 'HR@3', 'HR@5', 'HR@10', 'NDCG@1', 'NDCG@3', 'NDCG@5', 'NDCG@10'])\n",
    "\n",
    "display(HTML(mlp_asgd_tts_results.to_html()))"
   ]
  },
  {
   "cell_type": "markdown",
   "id": "2e0fef9f",
   "metadata": {},
   "source": [
    "## NeuMF Recommender"
   ]
  },
  {
   "cell_type": "markdown",
   "id": "96df90c9",
   "metadata": {},
   "source": [
    "### Adam Optimizer"
   ]
  },
  {
   "cell_type": "code",
   "execution_count": 38,
   "id": "d4dcc10f",
   "metadata": {},
   "outputs": [
    {
     "data": {
      "image/png": "[encoded data removed]",
      "text/plain": [
       "<Figure size 864x576 with 2 Axes>"
      ]
     },
     "metadata": {
      "needs_background": "light"
     },
     "output_type": "display_data"
    },
    {
     "name": "stdout",
     "output_type": "stream",
     "text": [
      "Loss\n",
      "\tloss             \t (min:    0.000, max:    0.324, cur:    0.000)\n"
     ]
    },
    {
     "data": {
      "text/html": [
       "<table border=\"1\" class=\"dataframe\">\n",
       "  <thead>\n",
       "    <tr style=\"text-align: right;\">\n",
       "      <th></th>\n",
       "      <th>Recommender</th>\n",
       "      <th>HR@1</th>\n",
       "      <th>HR@3</th>\n",
       "      <th>HR@5</th>\n",
       "      <th>HR@10</th>\n",
       "      <th>NDCG@1</th>\n",
       "      <th>NDCG@3</th>\n",
       "      <th>NDCG@5</th>\n",
       "      <th>NDCG@10</th>\n",
       "    </tr>\n",
       "  </thead>\n",
       "  <tbody>\n",
       "    <tr>\n",
       "      <th>0</th>\n",
       "      <td>NeuMFRecommenderAdamOptimizer</td>\n",
       "      <td>0.04854</td>\n",
       "      <td>0.126612</td>\n",
       "      <td>0.17074</td>\n",
       "      <td>0.239986</td>\n",
       "      <td>0.04854</td>\n",
       "      <td>0.093043</td>\n",
       "      <td>0.111438</td>\n",
       "      <td>0.133696</td>\n",
       "    </tr>\n",
       "  </tbody>\n",
       "</table>"
      ],
      "text/plain": [
       "<IPython.core.display.HTML object>"
      ]
     },
     "metadata": {},
     "output_type": "display_data"
    }
   ],
   "source": [
    "params = {\n",
    "    'model_name': 'NeuMF',\n",
    "    'optimizer_name': 'Adam',\n",
    "    'train': False,\n",
    "    #\n",
    "    'n_epochs': 15,\n",
    "    'embedding_dim': 16,\n",
    "    'hidden_dim': 16,\n",
    "    'batch_size': 128,\n",
    "    #\n",
    "    'lr': 0.003380903379083977, \n",
    "    'n_neg_per_pos': 6.0, \n",
    "    'weight_decay': 0.00030620763243595573\n",
    "}\n",
    "\n",
    "neumf_adam_recommender = NNRecommender(**params)\n",
    "neumf_adam_tts_results = [['NeuMFRecommenderAdamOptimizer'] + list(evaluate_train_test_split_implicit(neumf_adam_recommender, interactions_df, items_df))]\n",
    "neumf_adam_tts_results = pd.DataFrame(neumf_adam_tts_results, columns=['Recommender', 'HR@1', 'HR@3', 'HR@5', 'HR@10', 'NDCG@1', 'NDCG@3', 'NDCG@5', 'NDCG@10'])\n",
    "\n",
    "display(HTML(neumf_adam_tts_results.to_html()))"
   ]
  },
  {
   "cell_type": "markdown",
   "id": "36cd7b42",
   "metadata": {},
   "source": [
    "### SGD Optimizer"
   ]
  },
  {
   "cell_type": "code",
   "execution_count": 39,
   "id": "443cc04b",
   "metadata": {},
   "outputs": [
    {
     "data": {
      "image/png": "[encoded data removed]",
      "text/plain": [
       "<Figure size 864x576 with 2 Axes>"
      ]
     },
     "metadata": {
      "needs_background": "light"
     },
     "output_type": "display_data"
    },
    {
     "name": "stdout",
     "output_type": "stream",
     "text": [
      "Loss\n",
      "\tloss             \t (min:    0.387, max:    0.519, cur:    0.387)\n"
     ]
    },
    {
     "data": {
      "text/html": [
       "<table border=\"1\" class=\"dataframe\">\n",
       "  <thead>\n",
       "    <tr style=\"text-align: right;\">\n",
       "      <th></th>\n",
       "      <th>Recommender</th>\n",
       "      <th>HR@1</th>\n",
       "      <th>HR@3</th>\n",
       "      <th>HR@5</th>\n",
       "      <th>HR@10</th>\n",
       "      <th>NDCG@1</th>\n",
       "      <th>NDCG@3</th>\n",
       "      <th>NDCG@5</th>\n",
       "      <th>NDCG@10</th>\n",
       "    </tr>\n",
       "  </thead>\n",
       "  <tbody>\n",
       "    <tr>\n",
       "      <th>0</th>\n",
       "      <td>NeuMFRecommenderSGDOptimizer</td>\n",
       "      <td>0.046843</td>\n",
       "      <td>0.127291</td>\n",
       "      <td>0.175153</td>\n",
       "      <td>0.243381</td>\n",
       "      <td>0.046843</td>\n",
       "      <td>0.092889</td>\n",
       "      <td>0.112833</td>\n",
       "      <td>0.134746</td>\n",
       "    </tr>\n",
       "  </tbody>\n",
       "</table>"
      ],
      "text/plain": [
       "<IPython.core.display.HTML object>"
      ]
     },
     "metadata": {},
     "output_type": "display_data"
    }
   ],
   "source": [
    "params_space = {\n",
    "    'model_name': 'NeuMF',\n",
    "    'optimizer_name': 'SGD',\n",
    "    'train': False,\n",
    "    #\n",
    "    'n_epochs': 15,\n",
    "    'embedding_dim': 16,\n",
    "    'hidden_dim': 16,\n",
    "    'batch_size': 128,\n",
    "    #\n",
    "    'lr': 0.0028756423085441627, \n",
    "    'n_neg_per_pos': 3.0, \n",
    "    'weight_decay': 0.0007032144351924933\n",
    "}\n",
    "\n",
    "neumf_sgd_recommender = NNRecommender(**params_space)\n",
    "neumf_sgd_tts_results = [['NeuMFRecommenderSGDOptimizer'] + list(evaluate_train_test_split_implicit(neumf_sgd_recommender, interactions_df, items_df))]\n",
    "neumf_sgd_tts_results = pd.DataFrame(neumf_sgd_tts_results, columns=['Recommender', 'HR@1', 'HR@3', 'HR@5', 'HR@10', 'NDCG@1', 'NDCG@3', 'NDCG@5', 'NDCG@10'])\n",
    "\n",
    "display(HTML(neumf_sgd_tts_results.to_html()))"
   ]
  },
  {
   "cell_type": "markdown",
   "id": "9912eea9",
   "metadata": {},
   "source": [
    "### ASGD Optimizer"
   ]
  },
  {
   "cell_type": "code",
   "execution_count": 41,
   "id": "7b2cca66",
   "metadata": {},
   "outputs": [
    {
     "data": {
      "image/png": "[encoded data removed]",
      "text/plain": [
       "<Figure size 864x576 with 2 Axes>"
      ]
     },
     "metadata": {
      "needs_background": "light"
     },
     "output_type": "display_data"
    },
    {
     "name": "stdout",
     "output_type": "stream",
     "text": [
      "Loss\n",
      "\tloss             \t (min:    0.317, max:    0.411, cur:    0.317)\n"
     ]
    },
    {
     "data": {
      "text/html": [
       "<table border=\"1\" class=\"dataframe\">\n",
       "  <thead>\n",
       "    <tr style=\"text-align: right;\">\n",
       "      <th></th>\n",
       "      <th>Recommender</th>\n",
       "      <th>HR@1</th>\n",
       "      <th>HR@3</th>\n",
       "      <th>HR@5</th>\n",
       "      <th>HR@10</th>\n",
       "      <th>NDCG@1</th>\n",
       "      <th>NDCG@3</th>\n",
       "      <th>NDCG@5</th>\n",
       "      <th>NDCG@10</th>\n",
       "    </tr>\n",
       "  </thead>\n",
       "  <tbody>\n",
       "    <tr>\n",
       "      <th>0</th>\n",
       "      <td>NeuMFRecommenderASGDOptimizer</td>\n",
       "      <td>0.046843</td>\n",
       "      <td>0.12797</td>\n",
       "      <td>0.177189</td>\n",
       "      <td>0.24372</td>\n",
       "      <td>0.046843</td>\n",
       "      <td>0.093184</td>\n",
       "      <td>0.113579</td>\n",
       "      <td>0.135015</td>\n",
       "    </tr>\n",
       "  </tbody>\n",
       "</table>"
      ],
      "text/plain": [
       "<IPython.core.display.HTML object>"
      ]
     },
     "metadata": {},
     "output_type": "display_data"
    }
   ],
   "source": [
    "params = {\n",
    "    'model_name': 'NeuMF',\n",
    "    'optimizer_name': 'ASGD',\n",
    "    'train': False,\n",
    "    #\n",
    "    'n_epochs': 15,\n",
    "    'embedding_dim': 16,\n",
    "    'hidden_dim': 16,\n",
    "    'batch_size': 128,\n",
    "    #\n",
    "    'lr': 0.0011519271766241772, \n",
    "    'n_neg_per_pos': 5.0, \n",
    "    'weight_decay': 2.4598198962718836e-05\n",
    "}\n",
    "\n",
    "neumf_asgd_recommender = NNRecommender(**params)\n",
    "neumf_asgd_tts_results = [['NeuMFRecommenderASGDOptimizer'] + list(evaluate_train_test_split_implicit(neumf_asgd_recommender, interactions_df, items_df))]\n",
    "neumf_asgd_tts_results = pd.DataFrame(neumf_asgd_tts_results, columns=['Recommender', 'HR@1', 'HR@3', 'HR@5', 'HR@10', 'NDCG@1', 'NDCG@3', 'NDCG@5', 'NDCG@10'])\n",
    "\n",
    "display(HTML(neumf_asgd_tts_results.to_html()))"
   ]
  },
  {
   "cell_type": "markdown",
   "metadata": {},
   "source": [
    "### Amazon Recommender"
   ]
  },
  {
   "cell_type": "code",
   "execution_count": 30,
   "id": "suited-nomination",
   "metadata": {},
   "outputs": [
    {
     "data": {
      "text/html": [
       "<table border=\"1\" class=\"dataframe\">\n",
       "  <thead>\n",
       "    <tr style=\"text-align: right;\">\n",
       "      <th></th>\n",
       "      <th>Recommender</th>\n",
       "      <th>HR@1</th>\n",
       "      <th>HR@3</th>\n",
       "      <th>HR@5</th>\n",
       "      <th>HR@10</th>\n",
       "      <th>NDCG@1</th>\n",
       "      <th>NDCG@3</th>\n",
       "      <th>NDCG@5</th>\n",
       "      <th>NDCG@10</th>\n",
       "    </tr>\n",
       "  </thead>\n",
       "  <tbody>\n",
       "    <tr>\n",
       "      <th>0</th>\n",
       "      <td>AmazonRecommender</td>\n",
       "      <td>0.044128</td>\n",
       "      <td>0.118805</td>\n",
       "      <td>0.160557</td>\n",
       "      <td>0.223693</td>\n",
       "      <td>0.044128</td>\n",
       "      <td>0.086755</td>\n",
       "      <td>0.104216</td>\n",
       "      <td>0.124468</td>\n",
       "    </tr>\n",
       "  </tbody>\n",
       "</table>"
      ],
      "text/plain": [
       "<IPython.core.display.HTML object>"
      ]
     },
     "metadata": {},
     "output_type": "display_data"
    }
   ],
   "source": [
    "amazon_recommender = AmazonRecommender()\n",
    "amazon_tts_results = [['AmazonRecommender'] + list(evaluate_train_test_split_implicit(amazon_recommender, interactions_df, items_df))]\n",
    "amazon_tts_results = pd.DataFrame(amazon_tts_results, columns=['Recommender', 'HR@1', 'HR@3', 'HR@5', 'HR@10', 'NDCG@1', 'NDCG@3', 'NDCG@5', 'NDCG@10'])\n",
    "\n",
    "display(HTML(amazon_tts_results.to_html()))"
   ]
  },
  {
   "cell_type": "markdown",
   "id": "8a251417",
   "metadata": {},
   "source": [
    "### Netflix Recommender"
   ]
  },
  {
   "cell_type": "code",
   "execution_count": 31,
   "id": "conservative-remedy",
   "metadata": {},
   "outputs": [
    {
     "data": {
      "image/png": "[encoded data removed]",
      "text/plain": [
       "<Figure size 864x576 with 2 Axes>"
      ]
     },
     "metadata": {
      "needs_background": "light"
     },
     "output_type": "display_data"
    },
    {
     "name": "stdout",
     "output_type": "stream",
     "text": [
      "Loss\n",
      "\ttraining         \t (min:    0.165, max:    0.239, cur:    0.165)\n",
      "\tvalidation       \t (min:    0.180, max:    0.264, cur:    0.180)\n"
     ]
    },
    {
     "data": {
      "text/html": [
       "<table border=\"1\" class=\"dataframe\">\n",
       "  <thead>\n",
       "    <tr style=\"text-align: right;\">\n",
       "      <th></th>\n",
       "      <th>Recommender</th>\n",
       "      <th>HR@1</th>\n",
       "      <th>HR@3</th>\n",
       "      <th>HR@5</th>\n",
       "      <th>HR@10</th>\n",
       "      <th>NDCG@1</th>\n",
       "      <th>NDCG@3</th>\n",
       "      <th>NDCG@5</th>\n",
       "      <th>NDCG@10</th>\n",
       "    </tr>\n",
       "  </thead>\n",
       "  <tbody>\n",
       "    <tr>\n",
       "      <th>0</th>\n",
       "      <td>NetflixRecommender</td>\n",
       "      <td>0.044128</td>\n",
       "      <td>0.119145</td>\n",
       "      <td>0.161236</td>\n",
       "      <td>0.224033</td>\n",
       "      <td>0.044128</td>\n",
       "      <td>0.086925</td>\n",
       "      <td>0.104532</td>\n",
       "      <td>0.124597</td>\n",
       "    </tr>\n",
       "  </tbody>\n",
       "</table>"
      ],
      "text/plain": [
       "<IPython.core.display.HTML object>"
      ]
     },
     "metadata": {},
     "output_type": "display_data"
    }
   ],
   "source": [
    "netflix_recommender = NetflixRecommender(embedding_dim=8, n_epochs=10, print_type='live')\n",
    "netflix_tts_results = [['NetflixRecommender'] + list(evaluate_train_test_split_implicit(netflix_recommender, interactions_df, items_df))]\n",
    "netflix_tts_results = pd.DataFrame(netflix_tts_results, columns=['Recommender', 'HR@1', 'HR@3', 'HR@5', 'HR@10', 'NDCG@1', 'NDCG@3', 'NDCG@5', 'NDCG@10'])\n",
    "\n",
    "display(HTML(netflix_tts_results.to_html()))"
   ]
  },
  {
   "cell_type": "markdown",
   "id": "e1351dfe",
   "metadata": {},
   "source": [
    "# Comparison"
   ]
  },
  {
   "cell_type": "code",
   "execution_count": 42,
   "id": "moderate-printing",
   "metadata": {},
   "outputs": [
    {
     "data": {
      "text/html": [
       "<table border=\"1\" class=\"dataframe\">\n",
       "  <thead>\n",
       "    <tr style=\"text-align: right;\">\n",
       "      <th></th>\n",
       "      <th>Recommender</th>\n",
       "      <th>HR@1</th>\n",
       "      <th>HR@3</th>\n",
       "      <th>HR@5</th>\n",
       "      <th>HR@10</th>\n",
       "      <th>NDCG@1</th>\n",
       "      <th>NDCG@3</th>\n",
       "      <th>NDCG@5</th>\n",
       "      <th>NDCG@10</th>\n",
       "    </tr>\n",
       "  </thead>\n",
       "  <tbody>\n",
       "    <tr>\n",
       "      <th>0</th>\n",
       "      <td>GMFRecommenderWithSGDOptimizer</td>\n",
       "      <td>0.043788</td>\n",
       "      <td>0.118126</td>\n",
       "      <td>0.163612</td>\n",
       "      <td>0.220299</td>\n",
       "      <td>0.043788</td>\n",
       "      <td>0.086246</td>\n",
       "      <td>0.105136</td>\n",
       "      <td>0.123396</td>\n",
       "    </tr>\n",
       "    <tr>\n",
       "      <th>1</th>\n",
       "      <td>GMFRecommenderWithASGDOptimizer</td>\n",
       "      <td>0.043788</td>\n",
       "      <td>0.118466</td>\n",
       "      <td>0.163612</td>\n",
       "      <td>0.220638</td>\n",
       "      <td>0.043788</td>\n",
       "      <td>0.086460</td>\n",
       "      <td>0.105219</td>\n",
       "      <td>0.123304</td>\n",
       "    </tr>\n",
       "    <tr>\n",
       "      <th>2</th>\n",
       "      <td>AmazonRecommender</td>\n",
       "      <td>0.044128</td>\n",
       "      <td>0.118805</td>\n",
       "      <td>0.160557</td>\n",
       "      <td>0.223693</td>\n",
       "      <td>0.044128</td>\n",
       "      <td>0.086755</td>\n",
       "      <td>0.104216</td>\n",
       "      <td>0.124468</td>\n",
       "    </tr>\n",
       "    <tr>\n",
       "      <th>3</th>\n",
       "      <td>NetflixRecommender</td>\n",
       "      <td>0.044128</td>\n",
       "      <td>0.119145</td>\n",
       "      <td>0.161236</td>\n",
       "      <td>0.224033</td>\n",
       "      <td>0.044128</td>\n",
       "      <td>0.086925</td>\n",
       "      <td>0.104532</td>\n",
       "      <td>0.124597</td>\n",
       "    </tr>\n",
       "    <tr>\n",
       "      <th>4</th>\n",
       "      <td>MLPRecommenderWithAdamOptimizer</td>\n",
       "      <td>0.046504</td>\n",
       "      <td>0.124576</td>\n",
       "      <td>0.168024</td>\n",
       "      <td>0.231840</td>\n",
       "      <td>0.046504</td>\n",
       "      <td>0.091140</td>\n",
       "      <td>0.109272</td>\n",
       "      <td>0.129782</td>\n",
       "    </tr>\n",
       "    <tr>\n",
       "      <th>5</th>\n",
       "      <td>GMFRecommenderWithAdamOptimizer</td>\n",
       "      <td>0.046504</td>\n",
       "      <td>0.123897</td>\n",
       "      <td>0.166327</td>\n",
       "      <td>0.234895</td>\n",
       "      <td>0.046504</td>\n",
       "      <td>0.090800</td>\n",
       "      <td>0.108524</td>\n",
       "      <td>0.130622</td>\n",
       "    </tr>\n",
       "    <tr>\n",
       "      <th>6</th>\n",
       "      <td>NeuMFRecommenderAdamOptimizer</td>\n",
       "      <td>0.048540</td>\n",
       "      <td>0.126612</td>\n",
       "      <td>0.170740</td>\n",
       "      <td>0.239986</td>\n",
       "      <td>0.048540</td>\n",
       "      <td>0.093043</td>\n",
       "      <td>0.111438</td>\n",
       "      <td>0.133696</td>\n",
       "    </tr>\n",
       "    <tr>\n",
       "      <th>7</th>\n",
       "      <td>NeuMFRecommenderSGDOptimizer</td>\n",
       "      <td>0.046843</td>\n",
       "      <td>0.127291</td>\n",
       "      <td>0.175153</td>\n",
       "      <td>0.243381</td>\n",
       "      <td>0.046843</td>\n",
       "      <td>0.092889</td>\n",
       "      <td>0.112833</td>\n",
       "      <td>0.134746</td>\n",
       "    </tr>\n",
       "    <tr>\n",
       "      <th>8</th>\n",
       "      <td>NeuMFRecommenderASGDOptimizer</td>\n",
       "      <td>0.046843</td>\n",
       "      <td>0.127970</td>\n",
       "      <td>0.177189</td>\n",
       "      <td>0.243720</td>\n",
       "      <td>0.046843</td>\n",
       "      <td>0.093184</td>\n",
       "      <td>0.113579</td>\n",
       "      <td>0.135015</td>\n",
       "    </tr>\n",
       "    <tr>\n",
       "      <th>9</th>\n",
       "      <td>MLPRecommenderWithSGDOptimizer</td>\n",
       "      <td>0.047183</td>\n",
       "      <td>0.129328</td>\n",
       "      <td>0.174813</td>\n",
       "      <td>0.244399</td>\n",
       "      <td>0.047183</td>\n",
       "      <td>0.094033</td>\n",
       "      <td>0.113087</td>\n",
       "      <td>0.135149</td>\n",
       "    </tr>\n",
       "    <tr>\n",
       "      <th>10</th>\n",
       "      <td>MLPRecommenderWithASGDOptimizer</td>\n",
       "      <td>0.049219</td>\n",
       "      <td>0.129667</td>\n",
       "      <td>0.177529</td>\n",
       "      <td>0.245757</td>\n",
       "      <td>0.049219</td>\n",
       "      <td>0.095132</td>\n",
       "      <td>0.115046</td>\n",
       "      <td>0.136897</td>\n",
       "    </tr>\n",
       "  </tbody>\n",
       "</table>"
      ],
      "text/plain": [
       "<IPython.core.display.HTML object>"
      ]
     },
     "metadata": {},
     "output_type": "display_data"
    }
   ],
   "source": [
    "tts_results = pd.concat([\n",
    "    gmf_adam_tts_results,\n",
    "    gmf_sgd_tts_results,\n",
    "    gmf_asgd_tts_results,\n",
    "    mlp_adam_tts_results,\n",
    "    mlp_sgd_tts_results,\n",
    "    mlp_asgd_tts_results,\n",
    "    neumf_adam_tts_results,\n",
    "    neumf_sgd_tts_results,\n",
    "    neumf_asgd_tts_results,\n",
    "    amazon_tts_results, \n",
    "    netflix_tts_results\n",
    "]).reset_index(drop=True)\n",
    "\n",
    "tts_results = tts_results.sort_values(by = ['HR@10']).reset_index(drop=True)\n",
    "display(HTML(tts_results.to_html()))"
   ]
  },
  {
   "cell_type": "markdown",
   "id": "uniform-vegetable",
   "metadata": {},
   "source": [
    "# Summary\n",
    "\n",
    "<span style=\"color:red\"><font size=\"4\">**Task:**</font></span><br> \n",
    "Write a summary of your experiments. What worked well and what did not? What are your thoughts how could you possibly further improve the model?"
   ]
  },
  {
   "cell_type": "markdown",
   "id": "declared-howard",
   "metadata": {},
   "source": [
    "To be honest I've never been a huge fan of neural network but I considered this project as an opportunity to learn more about them and open my mind on technology that is crucial in our time.\n",
    "\n",
    "#### Results of my experiment with different models and optimizers combinations\n",
    "\n",
    "It's pretty awesome to compare all the results and analyse how performance was increasing with different model and optimizer setup. When I was doing quick tests before final evaluation I thought that GMF with Adam will be the best but it's not. In general it looks like MLP and NeuMF architectures are doing better than GMF and what's more Adam optimizer is not really the best as models with it are worse than with SGD and ASGD. It's very interesting how tunned parameters differs for different setup of model and optimizer and how loss curvers differs. However with additional checks I did it seems that Adam optimizer is more stable than SGD and ASGD but they are still better when it comes to final evaluation. I made what I planned with comparing these different recommenders and I consider it as a good entry point for analysing how to use best possible optimizer for particular model and how neural network architecture is connected to optimizer work. I wonder if it's possible to give real reasons for choosing one optimizer over another by only analysing neural network architecture... In the end MLP with ASGD Optimizer is the winner!\n",
    "\n",
    "#### What worked well\n",
    "\n",
    "I am pleased with how I managed to create a base neural network recommender class exactly how I imagined at first place. I wanted to make it easy to extend with other models and optimizers and basically everything but with usage of the given framework at the same time. There is no problem to add new model or optimizer and it requires only few changes. Implementation of MLP, GMF, NeuMF models wasn't very hard because I had knowledge how to do it from lectures. I spent a lot of time on reading about optimizers, it's very interesting what algorithm stants behind them and how they differs. My little experiment shows how results given by different combinations of models and optimizers differs. I think the final results are also fine so everything workout pretty well.  \n",
    "\n",
    "#### ... and what did not\n",
    "\n",
    "I think that the tunning of optimizers parameters might be much better because I struggled how to define param spaces for most of them and in the end I tunned number of negative interactions, learning rates and weight decays only but I prepared everything for using all optional parameters of optimizers and tunning them. I spent time on searching for best embedding dimension, hidden dimension, batch sizes and epoch number but the results were not what I expected, for me it was very hard to get reasonable values ​​of these parameters and better results. There was no big improvements so I stayed with values that are defaults in recommender class and didn't include them in final version of notebook as it's pretty big already and I wanted to focus on models and optimizers comparison.\n",
    "\n",
    "I am also sad that I didn't make hybrid version of recommender because I had an idea to make it configurable also and easily run base recommender as neural network only or as hybrid.\n",
    "Unfortunately, other subjects at the university take life energy and time which I would need to do this...\n",
    "\n",
    "#### Model improvement\n",
    "\n",
    "It would definitely be worth checking how the combinations of models and optimizers I have tested would work in the hybrid recommender. I'm very curious about overall impact of using numerical item and user features... I wonder if hybrid recommender is always better or it depends mostly on the dataset... I wonder how it would work on this dataset and I hope I will find some time to extend this project with hybrid recommender during the holidays.\n",
    "\n",
    "I also have a feeling that the embedding dimension, hidden dimension and batch sizes might be slightly better than these used by me as default so I would consider finding the best values of these parameters as improvement too because I feel that my empirical tunning might be done better.\n",
    "\n",
    "#### General feeling\n",
    "\n",
    "Both projects were great and there was no subject throughout the whole studies that would enter any branch of computer science in such detail. For one person it will be an advantage, for the other a disadvantage. I personally wasn't interested in these topics before the recommendation systems class and at the beginning I was overwhelmed by the amount of information provided in class but now I can say that it was great experience and I'm glad that I had the opportunity to attend these classes.\n",
    "\n",
    "Thanks for the knowledge!"
   ]
  }
 ],
 "metadata": {
  "kernelspec": {
   "display_name": "Python 3.8.0 ('rs_env')",
   "language": "python",
   "name": "python3"
  },
  "language_info": {
   "codemirror_mode": {
    "name": "ipython",
    "version": 3
   },
   "file_extension": ".py",
   "mimetype": "text/x-python",
   "name": "python",
   "nbconvert_exporter": "python",
   "pygments_lexer": "ipython3",
   "version": "3.8.0"
  },
  "vscode": {
   "interpreter": {
    "hash": "d0a21fd361aae5263a13315681ac5f30f379358b336a232e1cf6e6e75b50fae0"
   }
  }
 },
 "nbformat": 4,
 "nbformat_minor": 5
}
